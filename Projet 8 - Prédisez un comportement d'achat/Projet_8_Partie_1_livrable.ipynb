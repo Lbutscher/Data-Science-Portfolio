{
 "cells": [
  {
   "cell_type": "code",
   "execution_count": 1,
   "metadata": {
    "scrolled": true
   },
   "outputs": [
    {
     "name": "stdout",
     "output_type": "stream",
     "text": [
      "  channelGrouping                            customDimensions        date  \\\n",
      "0     Paid Search           [{'index': '4', 'value': 'APAC'}]  2017-03-12   \n",
      "1  Organic Search                                          []  2017-03-12   \n",
      "2          Direct  [{'index': '4', 'value': 'North America'}]  2017-03-12   \n",
      "3  Organic Search           [{'index': '4', 'value': 'APAC'}]  2017-03-12   \n",
      "4  Organic Search           [{'index': '4', 'value': 'APAC'}]  2017-03-12   \n",
      "\n",
      "                                              device        fullVisitorId  \\\n",
      "0  {\"browser\": \"Chrome\", \"browserVersion\": \"not a...  6018775317735347795   \n",
      "1  {\"browser\": \"Chrome\", \"browserVersion\": \"not a...  4502602144434229509   \n",
      "2  {\"browser\": \"Chrome\", \"browserVersion\": \"not a...  1047720525322501048   \n",
      "3  {\"browser\": \"Safari\", \"browserVersion\": \"not a...  2980931954171389805   \n",
      "4  {\"browser\": \"Firefox\", \"browserVersion\": \"not ...  3426870913361457794   \n",
      "\n",
      "                                          geoNetwork  \\\n",
      "0  {\"continent\": \"Asia\", \"subContinent\": \"Southea...   \n",
      "1  {\"continent\": \"Asia\", \"subContinent\": \"Eastern...   \n",
      "2  {\"continent\": \"Americas\", \"subContinent\": \"Nor...   \n",
      "3  {\"continent\": \"Asia\", \"subContinent\": \"Eastern...   \n",
      "4  {\"continent\": \"Asia\", \"subContinent\": \"Eastern...   \n",
      "\n",
      "                                                hits  socialEngagementType  \\\n",
      "0  [{'hitNumber': '1', 'time': '0', 'hour': '22',...  Not Socially Engaged   \n",
      "1  [{'hitNumber': '1', 'time': '0', 'hour': '23',...  Not Socially Engaged   \n",
      "2  [{'hitNumber': '1', 'time': '0', 'hour': '5', ...  Not Socially Engaged   \n",
      "3  [{'hitNumber': '1', 'time': '0', 'hour': '7', ...  Not Socially Engaged   \n",
      "4  [{'hitNumber': '1', 'time': '0', 'hour': '9', ...  Not Socially Engaged   \n",
      "\n",
      "                                              totals  \\\n",
      "0  {\"visits\": \"1\", \"hits\": \"1\", \"pageviews\": \"1\",...   \n",
      "1  {\"visits\": \"1\", \"hits\": \"1\", \"pageviews\": \"1\",...   \n",
      "2  {\"visits\": \"1\", \"hits\": \"1\", \"pageviews\": \"1\",...   \n",
      "3  {\"visits\": \"1\", \"hits\": \"1\", \"pageviews\": \"1\",...   \n",
      "4  {\"visits\": \"1\", \"hits\": \"1\", \"pageviews\": \"1\",...   \n",
      "\n",
      "                                       trafficSource     visitId  visitNumber  \\\n",
      "0  {\"campaign\": \"(not set)\", \"source\": \"google\", ...  1489384596           61   \n",
      "1  {\"campaign\": \"(not set)\", \"source\": \"google\", ...  1489386442            1   \n",
      "2  {\"campaign\": \"(not set)\", \"source\": \"(direct)\"...  1489321740            1   \n",
      "3  {\"campaign\": \"(not set)\", \"source\": \"google\", ...  1489330188            1   \n",
      "4  {\"campaign\": \"(not set)\", \"source\": \"yahoo\", \"...  1489336822            3   \n",
      "\n",
      "   visitStartTime  \n",
      "0      1489384596  \n",
      "1      1489386442  \n",
      "2      1489321740  \n",
      "3      1489330188  \n",
      "4      1489336822  \n"
     ]
    }
   ],
   "source": [
    "import pandas as pd\n",
    "import numpy as np\n",
    "from math import *\n",
    "import matplotlib.pyplot as plt\n",
    "import datetime as dt\n",
    "import scipy.stats as st\n",
    "import seaborn as sns\n",
    "import statsmodels.api as sm\n",
    "import json\n",
    "from sklearn.preprocessing import LabelEncoder\n",
    "\n",
    "\n",
    "df_train = pd.read_csv(\"C:/Users/KyRun69/Desktop/Cours_Openclassrooms/Projets/Projet_8/projet_8_mars.csv\",sep='\\t')\n",
    "print(df_train.head())\n"
   ]
  },
  {
   "cell_type": "code",
   "execution_count": 2,
   "metadata": {},
   "outputs": [],
   "source": [
    "def string_to_dict(dict_string):\n",
    "    return json.loads(dict_string)"
   ]
  },
  {
   "cell_type": "code",
   "execution_count": 3,
   "metadata": {},
   "outputs": [],
   "source": [
    "def create_new_dataset(df,json_col):\n",
    "    new = df.copy()\n",
    "    colonnes = new.columns\n",
    "    for col in json_col:\n",
    "        print(col)\n",
    "        new[col] = new[col].apply(string_to_dict)\n",
    "        new = pd.concat([new,(pd.io.json.json_normalize(new[col]))], axis=1)\n",
    "\n",
    "    for i in colonnes:\n",
    "        new = new.drop(columns=i)\n",
    "    \n",
    "    return new"
   ]
  },
  {
   "cell_type": "code",
   "execution_count": 4,
   "metadata": {},
   "outputs": [],
   "source": [
    "def graphique_total(df,col,head=5,min1=None,min2=None,max1=None,max2=None):\n",
    "    try : \n",
    "        df[df[col].isna()==False]=df[df[col].isna()==False].astype({col:int})\n",
    "    except :\n",
    "        df[df[col].isna()==False]=df[df[col].isna()==False].astype({col:float})\n",
    "    print(df.groupby(col)[col].count().head(head))\n",
    "   \n",
    "    plt.scatter(pd.Series(df[df[col].isna()==False][col].unique()).sort_values(ascending=True),df[df[col].isna()==False].groupby(df[df[col].isna()==False][col])[col].count())\n",
    "    plt.xlabel(col)\n",
    "    plt.ylabel(\"Nombre de personnes\")\n",
    "    plt.title(\"Répartition de {0} par personne\".format(col))\n",
    "    plt.show()\n",
    "    \n",
    "    if min1!=None : \n",
    "        plt.scatter(pd.Series(df[df[col].isna()==False][df[df[col].isna()==False][col]<min1][col].unique()).sort_values(ascending=True),df[df[col].isna()==False].groupby(df[df[col].isna()==False][df[df[col].isna()==False][col]<min1][col])[col].count())\n",
    "        plt.xlabel(col)\n",
    "        plt.ylabel(\"Nombre de personnes\")\n",
    "        plt.title(\"Répartition de {0} par personne inférieur à {1}\".format(col,min1))\n",
    "        plt.show()\n",
    "        \n",
    "    if min2!=None : \n",
    "        plt.scatter(pd.Series(df[df[col].isna()==False][df[df[col].isna()==False][col]<min2][col].unique()).sort_values(ascending=True),df[df[col].isna()==False].groupby(df[df[col].isna()==False][df[df[col].isna()==False][col]<min2][col])[col].count())\n",
    "        plt.xlabel(col)\n",
    "        plt.ylabel(\"Nombre de personnes\")\n",
    "        plt.title(\"Répartition de {0} par personne inférieur à {1}\".format(col,min2))\n",
    "        plt.show()\n",
    "        \n",
    "    if max1!=None : \n",
    "        plt.scatter(pd.Series(df[df[col].isna()==False][df[df[col].isna()==False][col]>max1][col].unique()).sort_values(ascending=True),df[df[col].isna()==False].groupby(df[df[col].isna()==False][df[df[col].isna()==False][col]>max1][col])[col].count())\n",
    "        plt.xlabel(col)\n",
    "        plt.ylabel(\"Nombre de personnes\")\n",
    "        plt.title(\"Répartition de {0} par personne supérieur à {1}\".format(col,max1))\n",
    "        plt.show()\n",
    "        \n",
    "    if max2!=None : \n",
    "        plt.scatter(pd.Series(df[df[col].isna()==False][df[df[col].isna()==False][col]>max2][col].unique()).sort_values(ascending=True),df[df[col].isna()==False].groupby(df[df[col].isna()==False][df[df[col].isna()==False][col]>max2][col])[col].count())\n",
    "        plt.xlabel(col)\n",
    "        plt.ylabel(\"Nombre de personnes\")\n",
    "        plt.title(\"Répartition de {0} par personne supérieur à {1}\".format(col,max2))\n",
    "        plt.show()"
   ]
  },
  {
   "cell_type": "code",
   "execution_count": null,
   "metadata": {},
   "outputs": [],
   "source": []
  },
  {
   "cell_type": "code",
   "execution_count": null,
   "metadata": {},
   "outputs": [],
   "source": []
  },
  {
   "cell_type": "code",
   "execution_count": 295,
   "metadata": {},
   "outputs": [],
   "source": [
    "# Partie nettoyage"
   ]
  },
  {
   "cell_type": "code",
   "execution_count": null,
   "metadata": {},
   "outputs": [],
   "source": []
  },
  {
   "cell_type": "code",
   "execution_count": null,
   "metadata": {},
   "outputs": [],
   "source": []
  },
  {
   "cell_type": "code",
   "execution_count": 296,
   "metadata": {},
   "outputs": [
    {
     "name": "stdout",
     "output_type": "stream",
     "text": [
      "Empty DataFrame\n",
      "Columns: [channelGrouping, customDimensions, date, device, fullVisitorId, geoNetwork, hits, socialEngagementType, totals, trafficSource, visitId, visitNumber, visitStartTime]\n",
      "Index: []\n"
     ]
    }
   ],
   "source": [
    "print(df_train[df_train.duplicated()]) # Pas de doublons"
   ]
  },
  {
   "cell_type": "code",
   "execution_count": null,
   "metadata": {},
   "outputs": [],
   "source": []
  },
  {
   "cell_type": "code",
   "execution_count": null,
   "metadata": {},
   "outputs": [],
   "source": []
  },
  {
   "cell_type": "code",
   "execution_count": 297,
   "metadata": {},
   "outputs": [],
   "source": [
    "# Nettoyage de socialEngagementType"
   ]
  },
  {
   "cell_type": "code",
   "execution_count": 298,
   "metadata": {},
   "outputs": [
    {
     "name": "stdout",
     "output_type": "stream",
     "text": [
      "['Not Socially Engaged']\n"
     ]
    }
   ],
   "source": [
    "print(df_train.socialEngagementType.unique()) \n",
    "#Uniquement un seul résultat. Drop de la colonne"
   ]
  },
  {
   "cell_type": "code",
   "execution_count": 299,
   "metadata": {},
   "outputs": [],
   "source": [
    "df_train=df_train.drop(columns={\"socialEngagementType\"})"
   ]
  },
  {
   "cell_type": "code",
   "execution_count": null,
   "metadata": {},
   "outputs": [],
   "source": []
  },
  {
   "cell_type": "code",
   "execution_count": null,
   "metadata": {},
   "outputs": [],
   "source": []
  },
  {
   "cell_type": "code",
   "execution_count": 300,
   "metadata": {},
   "outputs": [],
   "source": [
    "# Nettoyage de ChannelGrouping"
   ]
  },
  {
   "cell_type": "code",
   "execution_count": 301,
   "metadata": {},
   "outputs": [
    {
     "name": "stdout",
     "output_type": "stream",
     "text": [
      "['Paid Search' 'Organic Search' 'Direct' 'Referral' 'Affiliates' 'Display'\n",
      " 'Social' '(Other)']\n",
      "channelGrouping\n",
      "(Other)               5\n",
      "Affiliates         3477\n",
      "Direct            27305\n",
      "Display            1387\n",
      "Organic Search    73599\n",
      "Paid Search        3542\n",
      "Referral          21391\n",
      "Social            33314\n",
      "Name: date, dtype: int64\n"
     ]
    },
    {
     "data": {
      "image/png": "[encoded data removed]",
      "text/plain": [
       "<Figure size 432x288 with 1 Axes>"
      ]
     },
     "metadata": {
      "needs_background": "light"
     },
     "output_type": "display_data"
    }
   ],
   "source": [
    "print(df_train.channelGrouping.unique())\n",
    "print(df_train.groupby('channelGrouping').count().date)\n",
    "plt.plot(df_train.groupby('channelGrouping').count().date)\n",
    "plt.xticks(rotation='vertical')\n",
    "plt.title(\"Répartition des différents caneaux\")\n",
    "plt.show()"
   ]
  },
  {
   "cell_type": "code",
   "execution_count": null,
   "metadata": {},
   "outputs": [],
   "source": []
  },
  {
   "cell_type": "code",
   "execution_count": null,
   "metadata": {},
   "outputs": [],
   "source": []
  },
  {
   "cell_type": "code",
   "execution_count": 302,
   "metadata": {},
   "outputs": [],
   "source": [
    "# Nettoyage de date"
   ]
  },
  {
   "cell_type": "code",
   "execution_count": 303,
   "metadata": {},
   "outputs": [
    {
     "name": "stdout",
     "output_type": "stream",
     "text": [
      "Il y a 62 dates\n",
      "\n",
      "La date la plus ancienne est le :\n",
      "\n",
      " 0   2017-03-01\n",
      "dtype: datetime64[ns]\n",
      "\n",
      "La date la plus récente est le :\n",
      "\n",
      " 0   2018-03-31\n",
      "dtype: datetime64[ns]\n"
     ]
    }
   ],
   "source": [
    "df_train[\"date\"]=pd.to_datetime(df_train.date,format='%Y/%m/%d')\n",
    "print(\"Il y a\",int(pd.DataFrame(df_train.date.unique()).count()),\"dates\")\n",
    "print(\"\\nLa date la plus ancienne est le :\")\n",
    "print(\"\\n\",pd.DataFrame(df_train.date.unique()).min())\n",
    "print(\"\\nLa date la plus récente est le :\")\n",
    "print(\"\\n\",pd.DataFrame(df_train.date.unique()).max())"
   ]
  },
  {
   "cell_type": "code",
   "execution_count": 304,
   "metadata": {},
   "outputs": [
    {
     "name": "stdout",
     "output_type": "stream",
     "text": [
      "count                  164020\n",
      "unique                     62\n",
      "top       2018-03-21 00:00:00\n",
      "freq                     4434\n",
      "first     2017-03-01 00:00:00\n",
      "last      2018-03-31 00:00:00\n",
      "Name: date, dtype: object\n"
     ]
    }
   ],
   "source": [
    "print(df_train.date.describe())"
   ]
  },
  {
   "cell_type": "code",
   "execution_count": 305,
   "metadata": {},
   "outputs": [
    {
     "name": "stdout",
     "output_type": "stream",
     "text": [
      "2017-03-01 00:00:00\n",
      "2018-03-31 00:00:00\n",
      "Series([], Name: date, dtype: datetime64[ns])\n",
      "Series([], Name: date, dtype: datetime64[ns])\n",
      "Series([], Name: date, dtype: datetime64[ns])\n",
      "69931\n",
      "94089\n"
     ]
    }
   ],
   "source": [
    "print(df_train.date.min())\n",
    "print(df_train.date.max())\n",
    "\n",
    "print(df_train.date[df_train.date.dt.day>31])\n",
    "print(df_train.date[df_train.date.dt.day<1])\n",
    "print(df_train.date[df_train.date.dt.month!=3])\n",
    "\n",
    "print(df_train.date[df_train.date.dt.year==2017].count())\n",
    "print(df_train.date[df_train.date.dt.year==2018].count())\n",
    "\n",
    "# 69931 données en 2017 et 94089 données en 2018"
   ]
  },
  {
   "cell_type": "code",
   "execution_count": null,
   "metadata": {},
   "outputs": [],
   "source": []
  },
  {
   "cell_type": "code",
   "execution_count": null,
   "metadata": {},
   "outputs": [],
   "source": []
  },
  {
   "cell_type": "code",
   "execution_count": null,
   "metadata": {},
   "outputs": [],
   "source": []
  },
  {
   "cell_type": "code",
   "execution_count": 306,
   "metadata": {},
   "outputs": [],
   "source": [
    "# Nettoyage VisitStartTime"
   ]
  },
  {
   "cell_type": "code",
   "execution_count": 307,
   "metadata": {},
   "outputs": [],
   "source": [
    "readable_date=pd.to_datetime(df_train.visitStartTime,unit=\"s\")"
   ]
  },
  {
   "cell_type": "code",
   "execution_count": 308,
   "metadata": {},
   "outputs": [
    {
     "name": "stdout",
     "output_type": "stream",
     "text": [
      "128014   2017-03-01 08:00:35\n",
      "127645   2017-03-01 08:02:05\n",
      "126724   2017-03-01 08:02:56\n",
      "128301   2017-03-01 08:03:04\n",
      "127251   2017-03-01 08:03:48\n",
      "Name: visitStartTime, dtype: datetime64[ns]\n",
      "\n",
      "\n",
      "85210   2018-04-01 06:58:48\n",
      "85090   2018-04-01 06:58:02\n",
      "85326   2018-04-01 06:57:53\n",
      "86286   2018-04-01 06:56:49\n",
      "85889   2018-04-01 06:56:41\n",
      "Name: visitStartTime, dtype: datetime64[ns]\n",
      "\n",
      "\n",
      "3722\n"
     ]
    }
   ],
   "source": [
    "print(readable_date.sort_values(ascending=True).head()) \n",
    "print(\"\\n\")\n",
    "print(readable_date.sort_values(ascending=False).head()) \n",
    "\n",
    "# Les dates vont du 1er mars 2017 au 1er Avril 2018, certainement dû au décallage horaire\n",
    "\n",
    "print(\"\\n\")\n",
    "print(readable_date[readable_date.duplicated()].count())\n",
    "\n",
    "# 3722 dates en double, pas réellement étonnant"
   ]
  },
  {
   "cell_type": "code",
   "execution_count": 309,
   "metadata": {},
   "outputs": [
    {
     "name": "stdout",
     "output_type": "stream",
     "text": [
      "Series([], Name: visitStartTime, dtype: datetime64[ns])\n",
      "Series([], Name: visitStartTime, dtype: datetime64[ns])\n"
     ]
    }
   ],
   "source": [
    "print(readable_date[readable_date<\"2017-03-01\"])\n",
    "print(readable_date[readable_date>\"2018-04-02\"])  # Il ne semble pas y avoir d'incoérence"
   ]
  },
  {
   "cell_type": "code",
   "execution_count": 310,
   "metadata": {},
   "outputs": [],
   "source": [
    "df_train.visitStartTime=pd.to_datetime(df_train.visitStartTime,unit=\"s\")"
   ]
  },
  {
   "cell_type": "code",
   "execution_count": null,
   "metadata": {},
   "outputs": [],
   "source": []
  },
  {
   "cell_type": "code",
   "execution_count": null,
   "metadata": {},
   "outputs": [],
   "source": []
  },
  {
   "cell_type": "code",
   "execution_count": 311,
   "metadata": {},
   "outputs": [],
   "source": [
    "# Nettoyage de visitNumber"
   ]
  },
  {
   "cell_type": "code",
   "execution_count": 312,
   "metadata": {},
   "outputs": [
    {
     "name": "stdout",
     "output_type": "stream",
     "text": [
      "count    164020.000000\n",
      "mean          2.547476\n",
      "std          11.065449\n",
      "min           1.000000\n",
      "25%           1.000000\n",
      "50%           1.000000\n",
      "75%           1.000000\n",
      "max         451.000000\n",
      "Name: visitNumber, dtype: float64\n"
     ]
    }
   ],
   "source": [
    "print(df_train.visitNumber.describe())  #Il  semble y avoir un ou plusieurs outlier(s)"
   ]
  },
  {
   "cell_type": "code",
   "execution_count": 313,
   "metadata": {},
   "outputs": [
    {
     "data": {
      "image/png": "[encoded data removed]",
      "text/plain": [
       "<Figure size 432x288 with 1 Axes>"
      ]
     },
     "metadata": {
      "needs_background": "light"
     },
     "output_type": "display_data"
    }
   ],
   "source": [
    "plt.scatter(pd.Series(df_train.visitNumber.unique()).sort_values(ascending=True),df_train.groupby(df_train.visitNumber).visitNumber.count())\n",
    "plt.xlabel(\"Nombre de visites\")\n",
    "plt.ylabel(\"Nombre de personnes\")\n",
    "plt.title(\"Répartition du nombre de visites par personne\")\n",
    "plt.show()"
   ]
  },
  {
   "cell_type": "code",
   "execution_count": 314,
   "metadata": {},
   "outputs": [
    {
     "data": {
      "image/png": "[encoded data removed]",
      "text/plain": [
       "<Figure size 432x288 with 1 Axes>"
      ]
     },
     "metadata": {
      "needs_background": "light"
     },
     "output_type": "display_data"
    }
   ],
   "source": [
    "plt.hist(df_train.visitNumber)\n",
    "plt.xlabel(\"Nombre de visites\")\n",
    "plt.ylabel(\"Nombre de personnes\")\n",
    "plt.title(\"Répartition du nombre de visites par personne\")\n",
    "plt.show()"
   ]
  },
  {
   "cell_type": "code",
   "execution_count": 315,
   "metadata": {},
   "outputs": [
    {
     "data": {
      "image/png": "[encoded data removed]",
      "text/plain": [
       "<Figure size 432x288 with 1 Axes>"
      ]
     },
     "metadata": {
      "needs_background": "light"
     },
     "output_type": "display_data"
    }
   ],
   "source": [
    "plt.scatter(pd.Series(df_train[df_train.visitNumber>10].visitNumber.unique()).sort_values(ascending=True),df_train.groupby(df_train[df_train.visitNumber>10].visitNumber).visitNumber.count())\n",
    "plt.xlabel(\"Nombre de visites\")\n",
    "plt.ylabel(\"Nombre de personnes\")\n",
    "plt.title(\"Répartition du nombre de visites par personne supérieur à 10\")\n",
    "plt.show()"
   ]
  },
  {
   "cell_type": "code",
   "execution_count": 316,
   "metadata": {},
   "outputs": [
    {
     "data": {
      "image/png": "[encoded data removed]",
      "text/plain": [
       "<Figure size 432x288 with 1 Axes>"
      ]
     },
     "metadata": {
      "needs_background": "light"
     },
     "output_type": "display_data"
    }
   ],
   "source": [
    "plt.scatter(pd.Series(df_train[df_train.visitNumber>50].visitNumber.unique()).sort_values(ascending=True),df_train.groupby(df_train[df_train.visitNumber>50].visitNumber).visitNumber.count())\n",
    "plt.xlabel(\"Nombre de visites\")\n",
    "plt.ylabel(\"Nombre de personnes\")\n",
    "plt.title(\"Répartition du nombre de visites par personne supérieur à 50\")\n",
    "plt.show()"
   ]
  },
  {
   "cell_type": "code",
   "execution_count": 317,
   "metadata": {},
   "outputs": [
    {
     "name": "stderr",
     "output_type": "stream",
     "text": [
      "C:\\ProgramData\\Anaconda3\\lib\\site-packages\\ipykernel_launcher.py:1: UserWarning: Boolean Series key will be reindexed to match DataFrame index.\n",
      "  \"\"\"Entry point for launching an IPython kernel.\n",
      "C:\\ProgramData\\Anaconda3\\lib\\site-packages\\ipykernel_launcher.py:1: UserWarning: Boolean Series key will be reindexed to match DataFrame index.\n",
      "  \"\"\"Entry point for launching an IPython kernel.\n"
     ]
    },
    {
     "data": {
      "image/png": "[encoded data removed]",
      "text/plain": [
       "<Figure size 432x288 with 1 Axes>"
      ]
     },
     "metadata": {
      "needs_background": "light"
     },
     "output_type": "display_data"
    }
   ],
   "source": [
    "plt.scatter(pd.Series(df_train[df_train.visitNumber<11][df_train.visitNumber>1].visitNumber.unique()).sort_values(ascending=True),df_train.groupby(df_train[df_train.visitNumber<11][df_train.visitNumber>1].visitNumber).visitNumber.count())\n",
    "plt.xlabel(\"Nombre de visites\")\n",
    "plt.ylabel(\"Nombre de personnes\")\n",
    "plt.title(\"Répartition du nombre de visites par personne inférieur à 10 ( et différent de 1)\")\n",
    "plt.show()"
   ]
  },
  {
   "cell_type": "code",
   "execution_count": null,
   "metadata": {},
   "outputs": [],
   "source": []
  },
  {
   "cell_type": "code",
   "execution_count": 318,
   "metadata": {},
   "outputs": [
    {
     "name": "stdout",
     "output_type": "stream",
     "text": [
      "visitNumber\n",
      "349    1\n",
      "350    1\n",
      "351    1\n",
      "352    1\n",
      "353    1\n",
      "354    1\n",
      "355    1\n",
      "356    1\n",
      "357    1\n",
      "358    1\n",
      "359    1\n",
      "360    1\n",
      "361    1\n",
      "362    1\n",
      "363    1\n",
      "364    1\n",
      "448    1\n",
      "449    1\n",
      "450    1\n",
      "451    1\n",
      "Name: visitNumber, dtype: int64\n"
     ]
    }
   ],
   "source": [
    "print(df_train.groupby(df_train.visitNumber).visitNumber.count().tail(20))  #à laisser ou non ? "
   ]
  },
  {
   "cell_type": "code",
   "execution_count": null,
   "metadata": {},
   "outputs": [],
   "source": []
  },
  {
   "cell_type": "code",
   "execution_count": null,
   "metadata": {},
   "outputs": [],
   "source": []
  },
  {
   "cell_type": "code",
   "execution_count": 319,
   "metadata": {},
   "outputs": [],
   "source": [
    "# Nettoyage de fullVisitorId"
   ]
  },
  {
   "cell_type": "code",
   "execution_count": 320,
   "metadata": {},
   "outputs": [
    {
     "name": "stdout",
     "output_type": "stream",
     "text": [
      "count                  164020\n",
      "unique                 134481\n",
      "top       6829200181358925007\n",
      "freq                       49\n",
      "Name: fullVisitorId, dtype: object\n"
     ]
    }
   ],
   "source": [
    "print(df_train.fullVisitorId.describe())"
   ]
  },
  {
   "cell_type": "code",
   "execution_count": 321,
   "metadata": {},
   "outputs": [
    {
     "name": "stdout",
     "output_type": "stream",
     "text": [
      "45110             NaN\n",
      "61380    9.891190e+19\n",
      "61011    9.490735e+19\n",
      "45332    9.406860e+19\n",
      "61005    8.875697e+19\n",
      "Name: fullVisitorId, dtype: float64\n",
      "45110              NaN\n",
      "105069    3.946050e+13\n",
      "58379     5.249938e+13\n",
      "94962     5.897081e+13\n",
      "32277     6.160998e+13\n",
      "Name: fullVisitorId, dtype: float64\n"
     ]
    }
   ],
   "source": [
    "print(pd.to_numeric(df_train.fullVisitorId, errors='coerce').sort_values(ascending=False, na_position=\"first\").head())\n",
    "print(pd.to_numeric(df_train.fullVisitorId, errors='coerce').sort_values(ascending=True, na_position=\"first\").head())"
   ]
  },
  {
   "cell_type": "code",
   "execution_count": 322,
   "metadata": {},
   "outputs": [
    {
     "name": "stdout",
     "output_type": "stream",
     "text": [
      "      channelGrouping                            customDimensions       date  \\\n",
      "45110          Direct  [{'index': '4', 'value': 'North America'}] 2018-03-24   \n",
      "\n",
      "                                                  device  \\\n",
      "45110  {\"browser\": \"Safari\", \"browserVersion\": \"not a...   \n",
      "\n",
      "              fullVisitorId  \\\n",
      "45110  37816138082121595206   \n",
      "\n",
      "                                              geoNetwork  \\\n",
      "45110  {\"continent\": \"Americas\", \"subContinent\": \"Nor...   \n",
      "\n",
      "                                                    hits  \\\n",
      "45110  [{'hitNumber': '1', 'time': '0', 'hour': '3', ...   \n",
      "\n",
      "                                                  totals  \\\n",
      "45110  {\"visits\": \"1\", \"hits\": \"1\", \"pageviews\": \"1\",...   \n",
      "\n",
      "                                           trafficSource     visitId  \\\n",
      "45110  {\"campaign\": \"(not set)\", \"source\": \"(direct)\"...  1521885828   \n",
      "\n",
      "       visitNumber      visitStartTime  \n",
      "45110            1 2018-03-24 10:03:48  \n"
     ]
    }
   ],
   "source": [
    "print(df_train[pd.to_numeric(df_train.fullVisitorId, errors='coerce').isnull()])  \n",
    "#NaN à l'emplacement 45110, à enlever peut-être, erreur bizarre. ordre de grandeur 3.8e+19"
   ]
  },
  {
   "cell_type": "code",
   "execution_count": null,
   "metadata": {},
   "outputs": [],
   "source": []
  },
  {
   "cell_type": "code",
   "execution_count": null,
   "metadata": {},
   "outputs": [],
   "source": []
  },
  {
   "cell_type": "code",
   "execution_count": 323,
   "metadata": {},
   "outputs": [],
   "source": [
    "#Nettoyage visitId"
   ]
  },
  {
   "cell_type": "code",
   "execution_count": 324,
   "metadata": {},
   "outputs": [
    {
     "name": "stdout",
     "output_type": "stream",
     "text": [
      "count    1.640200e+05\n",
      "mean     1.507796e+09\n",
      "std      1.560466e+07\n",
      "min      1.488355e+09\n",
      "25%      1.489992e+09\n",
      "50%      1.520271e+09\n",
      "75%      1.521442e+09\n",
      "max      1.522566e+09\n",
      "Name: visitId, dtype: float64\n"
     ]
    }
   ],
   "source": [
    "print(df_train.visitId.describe()) # Tout semble OK"
   ]
  },
  {
   "cell_type": "code",
   "execution_count": null,
   "metadata": {},
   "outputs": [],
   "source": []
  },
  {
   "cell_type": "code",
   "execution_count": null,
   "metadata": {},
   "outputs": [],
   "source": []
  },
  {
   "cell_type": "code",
   "execution_count": 326,
   "metadata": {},
   "outputs": [],
   "source": [
    "# Nettoyage des colonnes JSON"
   ]
  },
  {
   "cell_type": "code",
   "execution_count": null,
   "metadata": {
    "scrolled": true
   },
   "outputs": [],
   "source": [
    "\n"
   ]
  },
  {
   "cell_type": "code",
   "execution_count": 327,
   "metadata": {},
   "outputs": [
    {
     "name": "stdout",
     "output_type": "stream",
     "text": [
      "device\n"
     ]
    }
   ],
   "source": [
    "device = create_new_dataset(df_train,[\"device\"])"
   ]
  },
  {
   "cell_type": "code",
   "execution_count": 329,
   "metadata": {},
   "outputs": [
    {
     "name": "stdout",
     "output_type": "stream",
     "text": [
      "geoNetwork\n"
     ]
    }
   ],
   "source": [
    "geo = create_new_dataset(df_train,[\"geoNetwork\"])"
   ]
  },
  {
   "cell_type": "code",
   "execution_count": 330,
   "metadata": {},
   "outputs": [
    {
     "name": "stdout",
     "output_type": "stream",
     "text": [
      "totals\n",
      "  bounces hits newVisits pageviews sessionQualityDim timeOnSite  \\\n",
      "0       1    1       NaN         1               NaN        NaN   \n",
      "1       1    1         1         1               NaN        NaN   \n",
      "2       1    1         1         1               NaN        NaN   \n",
      "3       1    1         1         1               NaN        NaN   \n",
      "4       1    1       NaN         1               NaN        NaN   \n",
      "\n",
      "  totalTransactionRevenue transactionRevenue transactions visits  \n",
      "0                     NaN                NaN          NaN      1  \n",
      "1                     NaN                NaN          NaN      1  \n",
      "2                     NaN                NaN          NaN      1  \n",
      "3                     NaN                NaN          NaN      1  \n",
      "4                     NaN                NaN          NaN      1  \n"
     ]
    }
   ],
   "source": [
    "totals = create_new_dataset(df_train,[\"totals\"])"
   ]
  },
  {
   "cell_type": "code",
   "execution_count": 331,
   "metadata": {},
   "outputs": [
    {
     "name": "stdout",
     "output_type": "stream",
     "text": [
      "trafficSource\n"
     ]
    }
   ],
   "source": [
    "traffic = create_new_dataset(df_train,[\"trafficSource\"])"
   ]
  },
  {
   "cell_type": "code",
   "execution_count": 336,
   "metadata": {},
   "outputs": [
    {
     "name": "stdout",
     "output_type": "stream",
     "text": [
      "                                        Col\n",
      "0           {\"index\": \"4\", \"value\": \"APAC\"}\n",
      "1                                       NaN\n",
      "2  {\"index\": \"4\", \"value\": \"North America\"}\n",
      "3           {\"index\": \"4\", \"value\": \"APAC\"}\n",
      "4           {\"index\": \"4\", \"value\": \"APAC\"}\n"
     ]
    }
   ],
   "source": [
    "customDimensions = pd.read_csv(\"C:/Users/KyRun69/Desktop/Cours_Openclassrooms/Projets/Projet_8/customDimensions.csv\",names=[\"Col\"])"
   ]
  },
  {
   "cell_type": "code",
   "execution_count": 337,
   "metadata": {},
   "outputs": [
    {
     "name": "stdout",
     "output_type": "stream",
     "text": [
      "Col\n"
     ]
    }
   ],
   "source": [
    "customDimensions[\"Col\"]=customDimensions[\"Col\"].replace(np.nan,\"{}\")\n",
    "\n",
    "dimension = create_new_dataset(customDimensions,[\"Col\"])"
   ]
  },
  {
   "cell_type": "code",
   "execution_count": 338,
   "metadata": {},
   "outputs": [
    {
     "name": "stdout",
     "output_type": "stream",
     "text": [
      "  index          value\n",
      "0     4           APAC\n",
      "1   NaN            NaN\n",
      "2     4  North America\n",
      "3     4           APAC\n",
      "4     4           APAC\n",
      "5   NaN            NaN\n",
      "6   NaN            NaN\n",
      "7     4           APAC\n",
      "8     4  North America\n",
      "9     4           EMEA\n"
     ]
    }
   ],
   "source": [
    "print(dimension.head(10))"
   ]
  },
  {
   "cell_type": "code",
   "execution_count": null,
   "metadata": {},
   "outputs": [],
   "source": []
  },
  {
   "cell_type": "code",
   "execution_count": null,
   "metadata": {},
   "outputs": [],
   "source": []
  },
  {
   "cell_type": "code",
   "execution_count": 339,
   "metadata": {},
   "outputs": [],
   "source": [
    "# Nettoyage device"
   ]
  },
  {
   "cell_type": "code",
   "execution_count": 340,
   "metadata": {},
   "outputs": [],
   "source": [
    "device=device.replace({'not available in demo dataset': None})"
   ]
  },
  {
   "cell_type": "code",
   "execution_count": 341,
   "metadata": {},
   "outputs": [
    {
     "data": {
      "text/plain": [
       "browser                           0\n",
       "browserSize                  164020\n",
       "browserVersion               164020\n",
       "deviceCategory                    0\n",
       "flashVersion                 164020\n",
       "isMobile                          0\n",
       "language                     164020\n",
       "mobileDeviceBranding         164020\n",
       "mobileDeviceInfo             164020\n",
       "mobileDeviceMarketingName    164020\n",
       "mobileDeviceModel            164020\n",
       "mobileInputSelector          164020\n",
       "operatingSystem                   0\n",
       "operatingSystemVersion       164020\n",
       "screenColors                 164020\n",
       "screenResolution             164020\n",
       "dtype: int64"
      ]
     },
     "execution_count": 341,
     "metadata": {},
     "output_type": "execute_result"
    }
   ],
   "source": [
    "device.isnull().sum() #12 colonnes remplies uniquement de None"
   ]
  },
  {
   "cell_type": "code",
   "execution_count": 342,
   "metadata": {},
   "outputs": [],
   "source": [
    "device=device[[\"browser\",\"deviceCategory\",\"isMobile\",\"operatingSystem\"]]"
   ]
  },
  {
   "cell_type": "code",
   "execution_count": 343,
   "metadata": {},
   "outputs": [
    {
     "name": "stdout",
     "output_type": "stream",
     "text": [
      "   browser deviceCategory  isMobile operatingSystem\n",
      "0   Chrome        desktop     False         Windows\n",
      "1   Chrome        desktop     False         Windows\n",
      "2   Chrome         mobile      True         Android\n",
      "3   Safari        desktop     False       Macintosh\n",
      "4  Firefox        desktop     False         Windows\n"
     ]
    }
   ],
   "source": [
    "print(device.head())"
   ]
  },
  {
   "cell_type": "code",
   "execution_count": 344,
   "metadata": {},
   "outputs": [
    {
     "name": "stdout",
     "output_type": "stream",
     "text": [
      "browser\n",
      ";__CT_JOB_ID__:0a075729-93a5-43d0-9638-4cbd41d5f5a5;         1\n",
      ";__CT_JOB_ID__:0b39e7ca-1431-42e3-ba1f-9d8951a65840;         1\n",
      ";__CT_JOB_ID__:2e0eca60-83ab-482d-bb81-343d113254fb;         1\n",
      ";__CT_JOB_ID__:6e9dcf2f-f58f-4938-91e3-77e00868177b;         1\n",
      ";__CT_JOB_ID__:85da5736-a78e-45a9-837e-f5a53e5cd725;         1\n",
      ";__CT_JOB_ID__:89e59554-ad41-4e94-957b-f12bd012530c;         1\n",
      ";__CT_JOB_ID__:97909e28-4228-4b55-8ad5-cc791f2b583c;         1\n",
      ";__CT_JOB_ID__:a24a8978-e5e8-4dc9-af66-c4ed89ea25d7;         1\n",
      ";__CT_JOB_ID__:a7ed0808-e70c-4b19-b1a3-1018bbb7dc7f;         1\n",
      ";__CT_JOB_ID__:a80e8e16-6e98-455b-885a-a4dd40f3d344;         1\n",
      "Amazon Silk                                                151\n",
      "Android Browser                                             92\n",
      "Android Webview                                           6052\n",
      "BlackBerry                                                  20\n",
      "Browser                                                      1\n",
      "CSM Click                                                    1\n",
      "Chrome                                                  115897\n",
      "Coc Coc                                                    193\n",
      "DoCoMo                                                       1\n",
      "Edge                                                      2255\n",
      "Firefox                                                   6680\n",
      "Internet Explorer                                         3687\n",
      "Iron                                                         3\n",
      "LYF_LS_4002_12                                               1\n",
      "Lunascape                                                    1\n",
      "MRCHROME                                                    33\n",
      "Maxthon                                                     15\n",
      "Mozilla Compatible Agent                                    74\n",
      "Nintendo Browser                                            21\n",
      "Nokia Browser                                               11\n",
      "NokiaC7-00                                                   1\n",
      "Opera                                                     1066\n",
      "Opera Mini                                                1841\n",
      "Playstation Vita Browser                                     4\n",
      "Puffin                                                      33\n",
      "Reddit                                                       1\n",
      "Safari                                                   22935\n",
      "Safari (in-app)                                            986\n",
      "Samsung Internet                                          1042\n",
      "SeaMonkey                                                    2\n",
      "Seznam                                                       9\n",
      "UC Browser                                                 549\n",
      "YaBrowser                                                  350\n",
      "osee2unifiedRelease                                          1\n",
      "starmaker                                                    1\n",
      "Name: isMobile, dtype: int64\n"
     ]
    }
   ],
   "source": [
    "print(device.groupby(\"browser\").count().isMobile)"
   ]
  },
  {
   "cell_type": "code",
   "execution_count": 345,
   "metadata": {},
   "outputs": [
    {
     "name": "stdout",
     "output_type": "stream",
     "text": [
      ";__CT_JOB_ID__:0a075729-93a5-43d0-9638-4cbd41d5f5a5;\n",
      ";__CT_JOB_ID__:0b39e7ca-1431-42e3-ba1f-9d8951a65840;\n",
      ";__CT_JOB_ID__:2e0eca60-83ab-482d-bb81-343d113254fb;\n",
      ";__CT_JOB_ID__:6e9dcf2f-f58f-4938-91e3-77e00868177b;\n",
      ";__CT_JOB_ID__:85da5736-a78e-45a9-837e-f5a53e5cd725;\n",
      ";__CT_JOB_ID__:89e59554-ad41-4e94-957b-f12bd012530c;\n",
      ";__CT_JOB_ID__:97909e28-4228-4b55-8ad5-cc791f2b583c;\n",
      ";__CT_JOB_ID__:a24a8978-e5e8-4dc9-af66-c4ed89ea25d7;\n",
      ";__CT_JOB_ID__:a7ed0808-e70c-4b19-b1a3-1018bbb7dc7f;\n",
      ";__CT_JOB_ID__:a80e8e16-6e98-455b-885a-a4dd40f3d344;\n"
     ]
    }
   ],
   "source": [
    "for i in range(0,10,1):\n",
    "    j=device.groupby(\"browser\").count().index[0]\n",
    "    print(j)\n",
    "    device=device[device.browser!=j]\n"
   ]
  },
  {
   "cell_type": "code",
   "execution_count": 346,
   "metadata": {},
   "outputs": [
    {
     "name": "stdout",
     "output_type": "stream",
     "text": [
      "browser\n",
      "Amazon Silk                    151\n",
      "Android Browser                 92\n",
      "Android Webview               6052\n",
      "BlackBerry                      20\n",
      "Browser                          1\n",
      "CSM Click                        1\n",
      "Chrome                      115897\n",
      "Coc Coc                        193\n",
      "DoCoMo                           1\n",
      "Edge                          2255\n",
      "Firefox                       6680\n",
      "Internet Explorer             3687\n",
      "Iron                             3\n",
      "LYF_LS_4002_12                   1\n",
      "Lunascape                        1\n",
      "MRCHROME                        33\n",
      "Maxthon                         15\n",
      "Mozilla Compatible Agent        74\n",
      "Nintendo Browser                21\n",
      "Nokia Browser                   11\n",
      "NokiaC7-00                       1\n",
      "Opera                         1066\n",
      "Opera Mini                    1841\n",
      "Playstation Vita Browser         4\n",
      "Puffin                          33\n",
      "Reddit                           1\n",
      "Safari                       22935\n",
      "Safari (in-app)                986\n",
      "Samsung Internet              1042\n",
      "SeaMonkey                        2\n",
      "Seznam                           9\n",
      "UC Browser                     549\n",
      "YaBrowser                      350\n",
      "osee2unifiedRelease              1\n",
      "starmaker                        1\n",
      "Name: isMobile, dtype: int64\n"
     ]
    }
   ],
   "source": [
    "print(device.groupby(\"browser\").count().isMobile)"
   ]
  },
  {
   "cell_type": "code",
   "execution_count": 347,
   "metadata": {},
   "outputs": [
    {
     "name": "stdout",
     "output_type": "stream",
     "text": [
      "                browser  isMobile  operatingSystem\n",
      "deviceCategory                                    \n",
      "desktop          113003    113003           113003\n",
      "mobile            45396     45396            45396\n",
      "tablet             5611      5611             5611\n"
     ]
    }
   ],
   "source": [
    "print(device.groupby(\"deviceCategory\").count()) #Pas de soucis"
   ]
  },
  {
   "cell_type": "code",
   "execution_count": 348,
   "metadata": {},
   "outputs": [
    {
     "name": "stdout",
     "output_type": "stream",
     "text": [
      "          browser  deviceCategory  operatingSystem\n",
      "isMobile                                          \n",
      "False      113027          113027           113027\n",
      "True        50983           50983            50983\n"
     ]
    }
   ],
   "source": [
    "print(device.groupby(\"isMobile\").count()) #Pas de soucis"
   ]
  },
  {
   "cell_type": "code",
   "execution_count": 349,
   "metadata": {},
   "outputs": [
    {
     "name": "stdout",
     "output_type": "stream",
     "text": [
      "                  browser  deviceCategory  isMobile\n",
      "operatingSystem                                    \n",
      "(not set)            1437            1437      1437\n",
      "Android             29670           29670     29670\n",
      "BlackBerry             27              27        27\n",
      "Chrome OS            6015            6015      6015\n",
      "Firefox OS              7               7         7\n",
      "FreeBSD                 3               3         3\n",
      "Linux                6680            6680      6680\n",
      "Macintosh           39356           39356     39356\n",
      "NTT DoCoMo              1               1         1\n",
      "Nintendo 3DS            3               3         3\n",
      "Nintendo WiiU          18              18        18\n",
      "Nokia                   1               1         1\n",
      "OS/2                   18              18        18\n",
      "Playstation Vita        4               4         4\n",
      "Samsung               154             154       154\n",
      "SymbianOS               1               1         1\n",
      "Tizen                 125             125       125\n",
      "Windows             61127           61127     61127\n",
      "Windows Phone         177             177       177\n",
      "Xbox                   11              11        11\n",
      "iOS                 19175           19175     19175\n"
     ]
    }
   ],
   "source": [
    "print(device.groupby(\"operatingSystem\").count())  #1437 (not set)"
   ]
  },
  {
   "cell_type": "code",
   "execution_count": 350,
   "metadata": {},
   "outputs": [
    {
     "name": "stdout",
     "output_type": "stream",
     "text": [
      "                          deviceCategory  isMobile  operatingSystem\n",
      "browser                                                            \n",
      "Browser                                1         1                1\n",
      "CSM Click                              1         1                1\n",
      "Chrome                                19        19               19\n",
      "LYF_LS_4002_12                         1         1                1\n",
      "Mozilla Compatible Agent              70        70               70\n",
      "Nokia Browser                          3         3                3\n",
      "Opera Mini                          1342      1342             1342\n"
     ]
    }
   ],
   "source": [
    "print(device[device.operatingSystem=='(not set)'].groupby('browser').count())  #Presque tous les \"(not set)\" utilisent Opera Mini"
   ]
  },
  {
   "cell_type": "code",
   "execution_count": 351,
   "metadata": {},
   "outputs": [
    {
     "name": "stdout",
     "output_type": "stream",
     "text": [
      "                browser  isMobile  operatingSystem\n",
      "deviceCategory                                    \n",
      "desktop              95        95               95\n",
      "mobile             1337      1337             1337\n",
      "tablet                5         5                5\n"
     ]
    }
   ],
   "source": [
    "print(device[device.operatingSystem=='(not set)'].groupby('deviceCategory').count())  #Presque tous les \"(not set)\" utilisent Opera Mini"
   ]
  },
  {
   "cell_type": "code",
   "execution_count": 352,
   "metadata": {},
   "outputs": [
    {
     "name": "stdout",
     "output_type": "stream",
     "text": [
      "          browser  deviceCategory  operatingSystem\n",
      "isMobile                                          \n",
      "False          95              95               95\n",
      "True         1342            1342             1342\n"
     ]
    }
   ],
   "source": [
    "print(device[device.operatingSystem=='(not set)'].groupby('isMobile').count())  #Presque tous les \"(not set)\" utilisent Opera Mini"
   ]
  },
  {
   "cell_type": "code",
   "execution_count": 353,
   "metadata": {},
   "outputs": [
    {
     "name": "stdout",
     "output_type": "stream",
     "text": [
      "         browser deviceCategory  isMobile operatingSystem\n",
      "523   Opera Mini         mobile      True         Android\n",
      "643   Opera Mini         mobile      True         Android\n",
      "679   Opera Mini         mobile      True         Android\n",
      "797   Opera Mini         mobile      True         Android\n",
      "806   Opera Mini         mobile      True         Android\n",
      "975   Opera Mini         mobile      True       (not set)\n",
      "1017  Opera Mini         tablet      True             iOS\n",
      "1122  Opera Mini         mobile      True         Samsung\n",
      "1367  Opera Mini         mobile      True       (not set)\n",
      "1420  Opera Mini         mobile      True         Android\n"
     ]
    }
   ],
   "source": [
    "print(device[device.browser==\"Opera Mini\"].head(10))"
   ]
  },
  {
   "cell_type": "code",
   "execution_count": 354,
   "metadata": {},
   "outputs": [
    {
     "name": "stdout",
     "output_type": "stream",
     "text": [
      "browser            50983\n",
      "deviceCategory     50983\n",
      "isMobile           50983\n",
      "operatingSystem    50983\n",
      "dtype: int64\n"
     ]
    }
   ],
   "source": [
    "print(device[device.isMobile==True].count())"
   ]
  },
  {
   "cell_type": "code",
   "execution_count": 355,
   "metadata": {},
   "outputs": [
    {
     "name": "stdout",
     "output_type": "stream",
     "text": [
      "browser            51007\n",
      "deviceCategory     51007\n",
      "isMobile           51007\n",
      "operatingSystem    51007\n",
      "dtype: int64\n"
     ]
    }
   ],
   "source": [
    "print(device[device.deviceCategory=='mobile'].count()+device[device.deviceCategory=='tablet'].count())"
   ]
  },
  {
   "cell_type": "code",
   "execution_count": 356,
   "metadata": {},
   "outputs": [
    {
     "name": "stdout",
     "output_type": "stream",
     "text": [
      "browser            45\n",
      "deviceCategory     45\n",
      "isMobile           45\n",
      "operatingSystem    45\n",
      "dtype: int64\n"
     ]
    },
    {
     "name": "stderr",
     "output_type": "stream",
     "text": [
      "C:\\ProgramData\\Anaconda3\\lib\\site-packages\\ipykernel_launcher.py:1: UserWarning: Boolean Series key will be reindexed to match DataFrame index.\n",
      "  \"\"\"Entry point for launching an IPython kernel.\n"
     ]
    }
   ],
   "source": [
    "print(device[device.isMobile==False][device.deviceCategory=='mobile'].count())"
   ]
  },
  {
   "cell_type": "code",
   "execution_count": 357,
   "metadata": {},
   "outputs": [
    {
     "name": "stdout",
     "output_type": "stream",
     "text": [
      "      browser deviceCategory  isMobile operatingSystem\n",
      "28228  Safari         tablet     False       Macintosh\n",
      "35478  Safari         tablet     False       Macintosh\n"
     ]
    },
    {
     "name": "stderr",
     "output_type": "stream",
     "text": [
      "C:\\ProgramData\\Anaconda3\\lib\\site-packages\\ipykernel_launcher.py:1: UserWarning: Boolean Series key will be reindexed to match DataFrame index.\n",
      "  \"\"\"Entry point for launching an IPython kernel.\n"
     ]
    }
   ],
   "source": [
    "print(device[device.isMobile==False][device.deviceCategory=='tablet']) #Intérêt de la colonne isMobile ?"
   ]
  },
  {
   "cell_type": "code",
   "execution_count": null,
   "metadata": {},
   "outputs": [],
   "source": []
  },
  {
   "cell_type": "code",
   "execution_count": null,
   "metadata": {},
   "outputs": [],
   "source": []
  },
  {
   "cell_type": "code",
   "execution_count": 358,
   "metadata": {},
   "outputs": [],
   "source": [
    "# Nettoyage geoNetwork"
   ]
  },
  {
   "cell_type": "code",
   "execution_count": 359,
   "metadata": {},
   "outputs": [],
   "source": [
    "geo=geo.replace({'not available in demo dataset': None})\n",
    "geo=geo.replace({'(not set)': None})"
   ]
  },
  {
   "cell_type": "code",
   "execution_count": 360,
   "metadata": {},
   "outputs": [
    {
     "data": {
      "text/plain": [
       "city                93162\n",
       "cityId             164020\n",
       "continent             190\n",
       "country               190\n",
       "latitude           164020\n",
       "longitude          164020\n",
       "metro              124361\n",
       "networkDomain       49235\n",
       "networkLocation    164020\n",
       "region              91083\n",
       "subContinent          190\n",
       "dtype: int64"
      ]
     },
     "execution_count": 360,
     "metadata": {},
     "output_type": "execute_result"
    }
   ],
   "source": [
    "geo.isnull().sum() # 4 colonnes pleines de None, 4 colonnes pas totalement pleines mais tout de même bien remplies.\n",
    "                   # Je décide de ne garder que continent, country et subContinent"
   ]
  },
  {
   "cell_type": "code",
   "execution_count": 361,
   "metadata": {},
   "outputs": [],
   "source": [
    "geo=geo[[\"continent\",\"country\",\"subContinent\"]]"
   ]
  },
  {
   "cell_type": "code",
   "execution_count": null,
   "metadata": {},
   "outputs": [],
   "source": []
  },
  {
   "cell_type": "code",
   "execution_count": null,
   "metadata": {},
   "outputs": [],
   "source": []
  },
  {
   "cell_type": "code",
   "execution_count": 362,
   "metadata": {},
   "outputs": [],
   "source": [
    "#Nettoyage totals"
   ]
  },
  {
   "cell_type": "code",
   "execution_count": 363,
   "metadata": {},
   "outputs": [
    {
     "data": {
      "text/plain": [
       "bounces                     81697\n",
       "hits                            0\n",
       "newVisits                   39859\n",
       "pageviews                      35\n",
       "sessionQualityDim           69931\n",
       "timeOnSite                  82583\n",
       "totalTransactionRevenue    162113\n",
       "transactionRevenue         162113\n",
       "transactions               162107\n",
       "visits                          0\n",
       "dtype: int64"
      ]
     },
     "execution_count": 363,
     "metadata": {},
     "output_type": "execute_result"
    }
   ],
   "source": [
    "totals.isna().sum()"
   ]
  },
  {
   "cell_type": "code",
   "execution_count": 364,
   "metadata": {},
   "outputs": [
    {
     "name": "stdout",
     "output_type": "stream",
     "text": [
      "['1' nan]\n"
     ]
    }
   ],
   "source": [
    "print(totals.bounces.unique())"
   ]
  },
  {
   "cell_type": "code",
   "execution_count": 365,
   "metadata": {},
   "outputs": [
    {
     "name": "stdout",
     "output_type": "stream",
     "text": [
      "[nan '1']\n"
     ]
    }
   ],
   "source": [
    "print(totals.newVisits.unique())"
   ]
  },
  {
   "cell_type": "code",
   "execution_count": null,
   "metadata": {},
   "outputs": [],
   "source": []
  },
  {
   "cell_type": "code",
   "execution_count": null,
   "metadata": {},
   "outputs": [],
   "source": []
  },
  {
   "cell_type": "code",
   "execution_count": 366,
   "metadata": {},
   "outputs": [],
   "source": [
    "def graphique_total(df,col,head=5,min1=None,min2=None,max1=None,max2=None):\n",
    "    try : \n",
    "        df[df[col].isna()==False]=df[df[col].isna()==False].astype({col:int})\n",
    "    except :\n",
    "        df[df[col].isna()==False]=df[df[col].isna()==False].astype({col:float})\n",
    "    print(df.groupby(col)[col].count().head(head))\n",
    "   \n",
    "    plt.scatter(pd.Series(df[df[col].isna()==False][col].unique()).sort_values(ascending=True),df[df[col].isna()==False].groupby(df[df[col].isna()==False][col])[col].count())\n",
    "    plt.xlabel(col)\n",
    "    plt.ylabel(\"Nombre de personnes\")\n",
    "    plt.title(\"Répartition de {0} par personne\".format(col))\n",
    "    plt.show()\n",
    "    \n",
    "    if min1!=None : \n",
    "        plt.scatter(pd.Series(df[df[col].isna()==False][df[df[col].isna()==False][col]<min1][col].unique()).sort_values(ascending=True),df[df[col].isna()==False].groupby(df[df[col].isna()==False][df[df[col].isna()==False][col]<min1][col])[col].count())\n",
    "        plt.xlabel(col)\n",
    "        plt.ylabel(\"Nombre de personnes\")\n",
    "        plt.title(\"Répartition de {0} par personne inférieur à {1}\".format(col,min1))\n",
    "        plt.show()\n",
    "        \n",
    "    if min2!=None : \n",
    "        plt.scatter(pd.Series(df[df[col].isna()==False][df[df[col].isna()==False][col]<min2][col].unique()).sort_values(ascending=True),df[df[col].isna()==False].groupby(df[df[col].isna()==False][df[df[col].isna()==False][col]<min2][col])[col].count())\n",
    "        plt.xlabel(col)\n",
    "        plt.ylabel(\"Nombre de personnes\")\n",
    "        plt.title(\"Répartition de {0} par personne inférieur à {1}\".format(col,min2))\n",
    "        plt.show()\n",
    "        \n",
    "    if max1!=None : \n",
    "        plt.scatter(pd.Series(df[df[col].isna()==False][df[df[col].isna()==False][col]>max1][col].unique()).sort_values(ascending=True),df[df[col].isna()==False].groupby(df[df[col].isna()==False][df[df[col].isna()==False][col]>max1][col])[col].count())\n",
    "        plt.xlabel(col)\n",
    "        plt.ylabel(\"Nombre de personnes\")\n",
    "        plt.title(\"Répartition de {0} par personne supérieur à {1}\".format(col,max1))\n",
    "        plt.show()\n",
    "        \n",
    "    if max2!=None : \n",
    "        plt.scatter(pd.Series(df[df[col].isna()==False][df[df[col].isna()==False][col]>max2][col].unique()).sort_values(ascending=True),df[df[col].isna()==False].groupby(df[df[col].isna()==False][df[df[col].isna()==False][col]>max2][col])[col].count())\n",
    "        plt.xlabel(col)\n",
    "        plt.ylabel(\"Nombre de personnes\")\n",
    "        plt.title(\"Répartition de {0} par personne supérieur à {1}\".format(col,max2))\n",
    "        plt.show()\n",
    "    "
   ]
  },
  {
   "cell_type": "code",
   "execution_count": null,
   "metadata": {},
   "outputs": [],
   "source": []
  },
  {
   "cell_type": "code",
   "execution_count": null,
   "metadata": {},
   "outputs": [],
   "source": []
  },
  {
   "cell_type": "code",
   "execution_count": 367,
   "metadata": {},
   "outputs": [
    {
     "name": "stdout",
     "output_type": "stream",
     "text": [
      "pageviews\n",
      "1     82916\n",
      "2     22658\n",
      "3     14795\n",
      "4      9076\n",
      "5      6672\n",
      "6      4822\n",
      "7      3758\n",
      "8      3004\n",
      "9      2366\n",
      "10     1892\n",
      "Name: pageviews, dtype: int64\n"
     ]
    },
    {
     "data": {
      "image/png": "[encoded data removed]",
      "text/plain": [
       "<Figure size 432x288 with 1 Axes>"
      ]
     },
     "metadata": {
      "needs_background": "light"
     },
     "output_type": "display_data"
    },
    {
     "data": {
      "image/png": "[encoded data removed]",
      "text/plain": [
       "<Figure size 432x288 with 1 Axes>"
      ]
     },
     "metadata": {
      "needs_background": "light"
     },
     "output_type": "display_data"
    },
    {
     "data": {
      "image/png": "[encoded data removed]",
      "text/plain": [
       "<Figure size 432x288 with 1 Axes>"
      ]
     },
     "metadata": {
      "needs_background": "light"
     },
     "output_type": "display_data"
    },
    {
     "data": {
      "image/png": "[encoded data removed]",
      "text/plain": [
       "<Figure size 432x288 with 1 Axes>"
      ]
     },
     "metadata": {
      "needs_background": "light"
     },
     "output_type": "display_data"
    },
    {
     "data": {
      "image/png": "[encoded data removed]",
      "text/plain": [
       "<Figure size 432x288 with 1 Axes>"
      ]
     },
     "metadata": {
      "needs_background": "light"
     },
     "output_type": "display_data"
    }
   ],
   "source": [
    "graphique_total(totals,\"pageviews\",10,50,10,10,50)"
   ]
  },
  {
   "cell_type": "code",
   "execution_count": null,
   "metadata": {},
   "outputs": [],
   "source": []
  },
  {
   "cell_type": "code",
   "execution_count": null,
   "metadata": {},
   "outputs": [],
   "source": []
  },
  {
   "cell_type": "code",
   "execution_count": 368,
   "metadata": {},
   "outputs": [
    {
     "name": "stdout",
     "output_type": "stream",
     "text": [
      "sessionQualityDim\n",
      "1     74378\n",
      "2      6381\n",
      "3      2369\n",
      "4      1217\n",
      "5       831\n",
      "6       682\n",
      "7       544\n",
      "8       428\n",
      "9       391\n",
      "10      325\n",
      "Name: sessionQualityDim, dtype: int64\n"
     ]
    },
    {
     "data": {
      "image/png": "[encoded data removed]",
      "text/plain": [
       "<Figure size 432x288 with 1 Axes>"
      ]
     },
     "metadata": {
      "needs_background": "light"
     },
     "output_type": "display_data"
    },
    {
     "data": {
      "image/png": "[encoded data removed]",
      "text/plain": [
       "<Figure size 432x288 with 1 Axes>"
      ]
     },
     "metadata": {
      "needs_background": "light"
     },
     "output_type": "display_data"
    },
    {
     "data": {
      "image/png": "[encoded data removed]",
      "text/plain": [
       "<Figure size 432x288 with 1 Axes>"
      ]
     },
     "metadata": {
      "needs_background": "light"
     },
     "output_type": "display_data"
    },
    {
     "data": {
      "image/png": "[encoded data removed]",
      "text/plain": [
       "<Figure size 432x288 with 1 Axes>"
      ]
     },
     "metadata": {
      "needs_background": "light"
     },
     "output_type": "display_data"
    },
    {
     "data": {
      "image/png": "[encoded data removed]",
      "text/plain": [
       "<Figure size 432x288 with 1 Axes>"
      ]
     },
     "metadata": {
      "needs_background": "light"
     },
     "output_type": "display_data"
    }
   ],
   "source": [
    "graphique_total(totals,\"sessionQualityDim\",10,20,5,5,20)"
   ]
  },
  {
   "cell_type": "code",
   "execution_count": null,
   "metadata": {},
   "outputs": [],
   "source": []
  },
  {
   "cell_type": "code",
   "execution_count": null,
   "metadata": {},
   "outputs": [],
   "source": []
  },
  {
   "cell_type": "code",
   "execution_count": 369,
   "metadata": {},
   "outputs": [
    {
     "name": "stdout",
     "output_type": "stream",
     "text": [
      "timeOnSite\n",
      "1     137\n",
      "2     236\n",
      "3     498\n",
      "4     725\n",
      "5     751\n",
      "6     771\n",
      "7     742\n",
      "8     782\n",
      "9     801\n",
      "10    833\n",
      "Name: timeOnSite, dtype: int64\n"
     ]
    },
    {
     "data": {
      "image/png": "[encoded data removed]",
      "text/plain": [
       "<Figure size 432x288 with 1 Axes>"
      ]
     },
     "metadata": {
      "needs_background": "light"
     },
     "output_type": "display_data"
    },
    {
     "data": {
      "image/png": "[encoded data removed]",
      "text/plain": [
       "<Figure size 432x288 with 1 Axes>"
      ]
     },
     "metadata": {
      "needs_background": "light"
     },
     "output_type": "display_data"
    },
    {
     "data": {
      "image/png": "[encoded data removed]",
      "text/plain": [
       "<Figure size 432x288 with 1 Axes>"
      ]
     },
     "metadata": {
      "needs_background": "light"
     },
     "output_type": "display_data"
    },
    {
     "data": {
      "image/png": "[encoded data removed]",
      "text/plain": [
       "<Figure size 432x288 with 1 Axes>"
      ]
     },
     "metadata": {
      "needs_background": "light"
     },
     "output_type": "display_data"
    },
    {
     "data": {
      "image/png": "[encoded data removed]",
      "text/plain": [
       "<Figure size 432x288 with 1 Axes>"
      ]
     },
     "metadata": {
      "needs_background": "light"
     },
     "output_type": "display_data"
    }
   ],
   "source": [
    "graphique_total(totals,\"timeOnSite\",10,500,150,500,2000)"
   ]
  },
  {
   "cell_type": "code",
   "execution_count": null,
   "metadata": {},
   "outputs": [],
   "source": []
  },
  {
   "cell_type": "code",
   "execution_count": null,
   "metadata": {},
   "outputs": [],
   "source": []
  },
  {
   "cell_type": "code",
   "execution_count": 382,
   "metadata": {},
   "outputs": [
    {
     "name": "stdout",
     "output_type": "stream",
     "text": [
      "transactions\n",
      "1     1873\n",
      "2       30\n",
      "3        1\n",
      "4        2\n",
      "7        2\n",
      "8        1\n",
      "10       1\n",
      "12       1\n",
      "21       1\n",
      "25       1\n",
      "Name: transactions, dtype: int64\n"
     ]
    },
    {
     "data": {
      "image/png": "[encoded data removed]",
      "text/plain": [
       "<Figure size 432x288 with 1 Axes>"
      ]
     },
     "metadata": {
      "needs_background": "light"
     },
     "output_type": "display_data"
    },
    {
     "data": {
      "image/png": "[encoded data removed]",
      "text/plain": [
       "<Figure size 432x288 with 1 Axes>"
      ]
     },
     "metadata": {
      "needs_background": "light"
     },
     "output_type": "display_data"
    },
    {
     "data": {
      "image/png": "[encoded data removed]",
      "text/plain": [
       "<Figure size 432x288 with 1 Axes>"
      ]
     },
     "metadata": {
      "needs_background": "light"
     },
     "output_type": "display_data"
    },
    {
     "data": {
      "image/png": "[encoded data removed]",
      "text/plain": [
       "<Figure size 432x288 with 1 Axes>"
      ]
     },
     "metadata": {
      "needs_background": "light"
     },
     "output_type": "display_data"
    }
   ],
   "source": [
    "graphique_total(totals,\"transactions\",10,5,None,1,2)"
   ]
  },
  {
   "cell_type": "code",
   "execution_count": null,
   "metadata": {},
   "outputs": [],
   "source": []
  },
  {
   "cell_type": "code",
   "execution_count": null,
   "metadata": {},
   "outputs": [],
   "source": []
  },
  {
   "cell_type": "code",
   "execution_count": 384,
   "metadata": {},
   "outputs": [],
   "source": [
    "# Nettoyage trafficSource"
   ]
  },
  {
   "cell_type": "code",
   "execution_count": 385,
   "metadata": {},
   "outputs": [
    {
     "name": "stdout",
     "output_type": "stream",
     "text": [
      "                    adContent adwordsClickInfo.adNetworkType  \\\n",
      "0  Display Ad created 3/11/14                            NaN   \n",
      "1                         NaN                            NaN   \n",
      "2                         NaN                            NaN   \n",
      "3                         NaN                            NaN   \n",
      "4                         NaN                            NaN   \n",
      "\n",
      "  adwordsClickInfo.criteriaParameters adwordsClickInfo.gclId  \\\n",
      "0       not available in demo dataset                    NaN   \n",
      "1       not available in demo dataset                    NaN   \n",
      "2       not available in demo dataset                    NaN   \n",
      "3       not available in demo dataset                    NaN   \n",
      "4       not available in demo dataset                    NaN   \n",
      "\n",
      "  adwordsClickInfo.isVideoAd adwordsClickInfo.page adwordsClickInfo.slot  \\\n",
      "0                        NaN                   NaN                   NaN   \n",
      "1                        NaN                   NaN                   NaN   \n",
      "2                        NaN                   NaN                   NaN   \n",
      "3                        NaN                   NaN                   NaN   \n",
      "4                        NaN                   NaN                   NaN   \n",
      "\n",
      "    campaign isTrueDirect                          keyword   medium  \\\n",
      "0  (not set)         True  (Remarketing/Content targeting)      cpc   \n",
      "1  (not set)          NaN                   (not provided)  organic   \n",
      "2  (not set)         True                              NaN   (none)   \n",
      "3  (not set)          NaN                   (not provided)  organic   \n",
      "4  (not set)          NaN                   (not provided)  organic   \n",
      "\n",
      "  referralPath    source  \n",
      "0          NaN    google  \n",
      "1          NaN    google  \n",
      "2          NaN  (direct)  \n",
      "3          NaN    google  \n",
      "4          NaN     yahoo  \n"
     ]
    }
   ],
   "source": [
    "print(traffic.head())"
   ]
  },
  {
   "cell_type": "code",
   "execution_count": 386,
   "metadata": {},
   "outputs": [
    {
     "data": {
      "text/plain": [
       "adContent                              160740\n",
       "adwordsClickInfo.adNetworkType         161022\n",
       "adwordsClickInfo.criteriaParameters         0\n",
       "adwordsClickInfo.gclId                 161012\n",
       "adwordsClickInfo.isVideoAd             161022\n",
       "adwordsClickInfo.page                  161022\n",
       "adwordsClickInfo.slot                  161022\n",
       "campaign                                    0\n",
       "isTrueDirect                           111014\n",
       "keyword                                 87506\n",
       "medium                                      0\n",
       "referralPath                           109316\n",
       "source                                      0\n",
       "dtype: int64"
      ]
     },
     "execution_count": 386,
     "metadata": {},
     "output_type": "execute_result"
    }
   ],
   "source": [
    "traffic.isna().sum() #6 colonnes avec 3000 valeurs uniquement, 3 autres avec seulement plus de la moitié et 4 sans Na"
   ]
  },
  {
   "cell_type": "code",
   "execution_count": null,
   "metadata": {},
   "outputs": [],
   "source": []
  },
  {
   "cell_type": "code",
   "execution_count": null,
   "metadata": {},
   "outputs": [],
   "source": []
  },
  {
   "cell_type": "code",
   "execution_count": 387,
   "metadata": {},
   "outputs": [
    {
     "name": "stdout",
     "output_type": "stream",
     "text": [
      "3280\n"
     ]
    }
   ],
   "source": [
    "print(traffic[traffic.adContent.isna()==False].adContent.count()) \n",
    "#3280 fois pas Na"
   ]
  },
  {
   "cell_type": "code",
   "execution_count": 388,
   "metadata": {
    "scrolled": false
   },
   "outputs": [
    {
     "name": "stdout",
     "output_type": "stream",
     "text": [
      "adContent\n",
      "Ad from 11/3/16                          1\n",
      "Ad from 11/7/16                          2\n",
      "Ad from 12/13/16                         3\n",
      "Ad from 12/15/17                       113\n",
      "Ad from 12/21/16                         8\n",
      "BQ                                      22\n",
      "Display Ad created 3/11/14             284\n",
      "Drinkware 336x280                       19\n",
      "Full auto ad IMAGE ONLY                 14\n",
      "Google Apparel                           1\n",
      "Google Merchandise Collection         1038\n",
      "Google Merchandise Store               324\n",
      "Google Online Store                     39\n",
      "Google Store                             2\n",
      "Men's Apparel from Google                1\n",
      "Office 2018 - 120 x 600                  1\n",
      "Official Google Merchandise            127\n",
      "Placememnt Drinkware 160x600             5\n",
      "Placement 300 x 250                     47\n",
      "Placement Accessores 300 x 250         495\n",
      "Placement Accessories 160 x 600         47\n",
      "Placement Accessories 336 x 280         39\n",
      "Placement Accessories2 120 x 600         8\n",
      "Placement Drinkware 300x250             88\n",
      "Smart display ad - 2/6/2018              5\n",
      "Smart display ad - 8/17/2017           460\n",
      "Swag with Google Logos                  13\n",
      "visit us again                           1\n",
      "{KeyWord:Google Brand Items}            17\n",
      "{KeyWord:Google Branded Apparel}         1\n",
      "{KeyWord:Google Branded Gear}            6\n",
      "{KeyWord:Google Branded Kit}             3\n",
      "{KeyWord:Google Branded Outerwear}       1\n",
      "{KeyWord:Google Drinkware}               3\n",
      "{KeyWord:Google Men's T-Shirts}          3\n",
      "{KeyWord:Google Merchandise}            29\n",
      "{KeyWord:Looking for Google Bags?}       6\n",
      "{KeyWord:Want Google Stickers?}          4\n",
      "Name: adContent, dtype: int64\n"
     ]
    }
   ],
   "source": [
    "print(traffic[traffic.adContent.isna()==False].groupby('adContent')['adContent'].count())"
   ]
  },
  {
   "cell_type": "code",
   "execution_count": null,
   "metadata": {},
   "outputs": [],
   "source": []
  },
  {
   "cell_type": "code",
   "execution_count": null,
   "metadata": {},
   "outputs": [],
   "source": []
  },
  {
   "cell_type": "code",
   "execution_count": 389,
   "metadata": {},
   "outputs": [
    {
     "name": "stdout",
     "output_type": "stream",
     "text": [
      "Series([], Name: adwordsClickInfo.adNetworkType, dtype: object)\n"
     ]
    }
   ],
   "source": [
    "print(traffic[traffic[\"adwordsClickInfo.criteriaParameters\"]!='not available in demo dataset'][\"adwordsClickInfo.adNetworkType\"])\n",
    "\n",
    "#Que des \"not available in demo dataset\"\n",
    "\n",
    "traffic=traffic.drop(columns='adwordsClickInfo.criteriaParameters')"
   ]
  },
  {
   "cell_type": "code",
   "execution_count": null,
   "metadata": {},
   "outputs": [],
   "source": []
  },
  {
   "cell_type": "code",
   "execution_count": null,
   "metadata": {},
   "outputs": [],
   "source": []
  },
  {
   "cell_type": "code",
   "execution_count": 390,
   "metadata": {},
   "outputs": [
    {
     "name": "stdout",
     "output_type": "stream",
     "text": [
      "69        AW - Dynamic Search Ads Whole Site\n",
      "204                         Data Share Promo\n",
      "210                         Data Share Promo\n",
      "212                         Data Share Promo\n",
      "223                         Data Share Promo\n",
      "231                         Data Share Promo\n",
      "232                         Data Share Promo\n",
      "233                         Data Share Promo\n",
      "235                         Data Share Promo\n",
      "237                         Data Share Promo\n",
      "239                         Data Share Promo\n",
      "261                         Data Share Promo\n",
      "265                         Data Share Promo\n",
      "276                         Data Share Promo\n",
      "285                         Data Share Promo\n",
      "291                         Data Share Promo\n",
      "326                         AW - Accessories\n",
      "337                         AW - Accessories\n",
      "650                         AW - Accessories\n",
      "672       AW - Dynamic Search Ads Whole Site\n",
      "720                         AW - Accessories\n",
      "726                         Data Share Promo\n",
      "728                         AW - Accessories\n",
      "744                         AW - Accessories\n",
      "758                         AW - Accessories\n",
      "867                         AW - Accessories\n",
      "868                         AW - Accessories\n",
      "894                         Data Share Promo\n",
      "973                         AW - Accessories\n",
      "974                         AW - Accessories\n",
      "                         ...                \n",
      "162798                      Data Share Promo\n",
      "162802                      Data Share Promo\n",
      "162819                      AW - Accessories\n",
      "162895    AW - Dynamic Search Ads Whole Site\n",
      "162934                      Data Share Promo\n",
      "162959                      Data Share Promo\n",
      "162964                      AW - Accessories\n",
      "162976                      AW - Accessories\n",
      "162978                      AW - Accessories\n",
      "163090                      Data Share Promo\n",
      "163094                      Data Share Promo\n",
      "163101                      Data Share Promo\n",
      "163156    AW - Dynamic Search Ads Whole Site\n",
      "163173                      Data Share Promo\n",
      "163176                      Data Share Promo\n",
      "163190                      AW - Accessories\n",
      "163239                      Data Share Promo\n",
      "163244                      AW - Accessories\n",
      "163250                      Data Share Promo\n",
      "163320                      Data Share Promo\n",
      "163331                      AW - Accessories\n",
      "163332                      AW - Accessories\n",
      "163333                      AW - Accessories\n",
      "163366                      AW - Accessories\n",
      "163392                      Data Share Promo\n",
      "163476                      AW - Accessories\n",
      "163482                      AW - Accessories\n",
      "163505                      Data Share Promo\n",
      "163572                      AW - Accessories\n",
      "163604                      AW - Accessories\n",
      "Name: campaign, Length: 7226, dtype: object\n"
     ]
    }
   ],
   "source": [
    "print(traffic[traffic[\"campaign\"]!='(not set)'][\"campaign\"])"
   ]
  },
  {
   "cell_type": "code",
   "execution_count": null,
   "metadata": {},
   "outputs": [],
   "source": []
  },
  {
   "cell_type": "code",
   "execution_count": null,
   "metadata": {},
   "outputs": [],
   "source": []
  },
  {
   "cell_type": "code",
   "execution_count": 391,
   "metadata": {},
   "outputs": [
    {
     "name": "stdout",
     "output_type": "stream",
     "text": [
      "Series([], Name: isTrueDirect, dtype: object)\n",
      "53006\n",
      "53006\n"
     ]
    }
   ],
   "source": [
    "print(traffic[traffic[\"isTrueDirect\"]==False][\"isTrueDirect\"]) # Pas de False\n",
    "print(traffic[traffic[\"isTrueDirect\"].isna()==False][\"isTrueDirect\"].count()) # 53006 non NaN\n",
    "print(traffic[traffic[\"isTrueDirect\"]==True][\"isTrueDirect\"].count()) # 53006 'True'\n",
    "\n",
    "# Toutes les valeurs qui ne sont pas des NaN sont des 'True'"
   ]
  },
  {
   "cell_type": "code",
   "execution_count": null,
   "metadata": {},
   "outputs": [],
   "source": []
  },
  {
   "cell_type": "code",
   "execution_count": null,
   "metadata": {},
   "outputs": [],
   "source": []
  },
  {
   "cell_type": "code",
   "execution_count": 392,
   "metadata": {},
   "outputs": [
    {
     "name": "stdout",
     "output_type": "stream",
     "text": [
      "0      (Remarketing/Content targeting)\n",
      "69                    6qEhsCssdK0z36ri\n",
      "165                      google online\n",
      "244    (Remarketing/Content targeting)\n",
      "258                         google usa\n",
      "Name: keyword, dtype: object\n",
      "6107\n"
     ]
    },
    {
     "name": "stderr",
     "output_type": "stream",
     "text": [
      "C:\\ProgramData\\Anaconda3\\lib\\site-packages\\ipykernel_launcher.py:1: UserWarning: Boolean Series key will be reindexed to match DataFrame index.\n",
      "  \"\"\"Entry point for launching an IPython kernel.\n",
      "C:\\ProgramData\\Anaconda3\\lib\\site-packages\\ipykernel_launcher.py:2: UserWarning: Boolean Series key will be reindexed to match DataFrame index.\n",
      "  \n"
     ]
    }
   ],
   "source": [
    "print(traffic[traffic[\"keyword\"].isna()==False][traffic[\"keyword\"]!='(not provided)'][\"keyword\"].head())\n",
    "print(traffic[traffic[\"keyword\"].isna()==False][traffic[\"keyword\"]!='(not provided)'][\"keyword\"].count())\n",
    "#Pas certain que je vais l'utiliser"
   ]
  },
  {
   "cell_type": "code",
   "execution_count": null,
   "metadata": {},
   "outputs": [],
   "source": []
  },
  {
   "cell_type": "code",
   "execution_count": null,
   "metadata": {},
   "outputs": [],
   "source": []
  },
  {
   "cell_type": "code",
   "execution_count": 393,
   "metadata": {},
   "outputs": [
    {
     "name": "stdout",
     "output_type": "stream",
     "text": [
      "123903\n"
     ]
    },
    {
     "name": "stderr",
     "output_type": "stream",
     "text": [
      "C:\\ProgramData\\Anaconda3\\lib\\site-packages\\ipykernel_launcher.py:2: UserWarning: Boolean Series key will be reindexed to match DataFrame index.\n",
      "  \n"
     ]
    },
    {
     "name": "stdout",
     "output_type": "stream",
     "text": [
      "medium\n",
      "affiliate     3477\n",
      "cpc           4326\n",
      "cpm            603\n",
      "organic      73599\n",
      "referral     41893\n",
      "Name: medium, dtype: int64\n"
     ]
    }
   ],
   "source": [
    "print(traffic[traffic[\"medium\"].isna()==False][traffic[\"medium\"]!='(none)']['medium'].count())\n",
    "print(traffic[traffic[\"medium\"].isna()==False][traffic[\"medium\"]!='(none)'][traffic[\"medium\"]!='(not set)'].groupby('medium')[\"medium\"].count())\n",
    "traffic['medium']=traffic[\"medium\"].replace('(none)', np.nan)\n",
    "traffic['medium']=traffic[\"medium\"].replace('(not set)', np.nan)\n",
    "#Remplacement des valeurs '(none)' et '(not set)' par 'NaN'"
   ]
  },
  {
   "cell_type": "code",
   "execution_count": null,
   "metadata": {},
   "outputs": [],
   "source": []
  },
  {
   "cell_type": "code",
   "execution_count": null,
   "metadata": {},
   "outputs": [],
   "source": []
  },
  {
   "cell_type": "code",
   "execution_count": 394,
   "metadata": {},
   "outputs": [
    {
     "name": "stdout",
     "output_type": "stream",
     "text": [
      "54704\n"
     ]
    }
   ],
   "source": [
    "print(traffic[traffic[\"referralPath\"].isna()==False]['referralPath'].count())\n",
    "#54704 valeurs non NaN"
   ]
  },
  {
   "cell_type": "code",
   "execution_count": 395,
   "metadata": {},
   "outputs": [
    {
     "name": "stdout",
     "output_type": "stream",
     "text": [
      "referralPath\n",
      "/                                                                                     12455\n",
      "/yt/about/                                                                             5344\n",
      "/analytics/web/                                                                        4041\n",
      "/yt/advertise/                                                                         1473\n",
      "/offer/2145                                                                            1005\n",
      "/yt/creators/                                                                           953\n",
      "/a/google.com/googletopia/discounts-deals-and-free-stuff/alphabet-google-discounts      931\n",
      "/yt/about/ru/                                                                           919\n",
      "/permissions/using-the-logo.html                                                        873\n",
      "/intl/en/yt/advertise/                                                                  865\n",
      "/moma                                                                                   787\n",
      "/yt/about/policies/                                                                     763\n",
      "/yt/about/es-419/                                                                       578\n",
      "/yt/about/copyright/                                                                    542\n",
      "/intl/ar/yt/advertise/                                                                  539\n",
      "/yt/dev/                                                                                533\n",
      "/yt/about/en-GB/                                                                        524\n",
      "/yt/about/ja/                                                                           475\n",
      "/yt/about/fr/                                                                           461\n",
      "/yt/about/press/                                                                        458\n",
      "/yt/about/pt-BR/                                                                        441\n",
      "/yt/about/es/                                                                           415\n",
      "/yt/about/tr/                                                                           388\n",
      "/yt/music/index.html                                                                    370\n",
      "/yt/about/ar/                                                                           365\n",
      "/YKEI_mrn/items/c10b14f9a69ff71b1b7a                                                    356\n",
      "/yt/about/pl/                                                                           341\n",
      "/yt/jobs/                                                                               326\n",
      "/yt/about/de/                                                                           325\n",
      "/mail/u/0/                                                                              291\n",
      "                                                                                      ...  \n",
      "/intl/pl_ALL/yt/advertise/resources/                                                      1\n",
      "/intl/pl/yt/space/                                                                        1\n",
      "/yt/dev/pl/showcase.html                                                                  1\n",
      "/yt/dev/pt-BR/api-resources.html                                                          1\n",
      "/intl/pt-BR/yt/creators/benefits/bronze/                                                  1\n",
      "/r/Android/comments/67ojsi/bluetooth_and_anc_headphone_by_google_in_the_works/            1\n",
      "/yt/dev/vi/index.html                                                                     1\n",
      "/intl/es-419/yt/about/copyright/fair-use/                                                 1\n",
      "/yt/dev/vi/demos.html                                                                     1\n",
      "/pin/345932815112616204                                                                   1\n",
      "/intl/es-419/yt/creators-for-change/                                                      1\n",
      "/pin/345932815112616204/                                                                  1\n",
      "/yt/dev/tr/demos.html                                                                     1\n",
      "/yt/dev/tr/api-resources.html                                                             1\n",
      "/intl/es-419/yt/creators/benefits/bronze/                                                 1\n",
      "/intl/es-419/yt/creators/benefits/silver/                                                 1\n",
      "/pin/426082814733567791/                                                                  1\n",
      "/popular                                                                                  1\n",
      "/intl/es-419/yt/creators/nextup/                                                          1\n",
      "/intl/pt-BR/yt/space/rio/unlock.html                                                      1\n",
      "/yt/dev/th/demos.html                                                                     1\n",
      "/yt/dev/sv/index.html                                                                     1\n",
      "/intl/es-419_ALL/yt/advertise/resources/                                                  1\n",
      "/intl/pt-BR/yt/space/rio/access.html                                                      1\n",
      "/presentation/d/1031aZFf2rJXaNts1RUIHp8uhHZzDExUdHu_0D0Spza4/present                      1\n",
      "/intl/es-419_ALL/yt/advertise/success-story/majestic-heli-ski/                            1\n",
      "/yt/dev/ru/api-resources.html                                                             1\n",
      "/yt/dev/pt-PT/index.html                                                                  1\n",
      "/intl/pt-BR/yt/creators/nextup/                                                           1\n",
      "/intl/ru/yt/impactlab/registration/                                                       1\n",
      "Name: referralPath, Length: 1291, dtype: int64\n"
     ]
    }
   ],
   "source": [
    "print(traffic[traffic[\"referralPath\"].isna()==False].groupby(\"referralPath\")[\"referralPath\"].count().sort_values(ascending=False))\n",
    "#1291 valeurs différentes"
   ]
  },
  {
   "cell_type": "code",
   "execution_count": null,
   "metadata": {},
   "outputs": [],
   "source": []
  },
  {
   "cell_type": "code",
   "execution_count": null,
   "metadata": {},
   "outputs": [],
   "source": []
  },
  {
   "cell_type": "code",
   "execution_count": 396,
   "metadata": {},
   "outputs": [
    {
     "name": "stdout",
     "output_type": "stream",
     "text": [
      "source\n",
      "google                         76784\n",
      "(direct)                       40118\n",
      "youtube.com                    30727\n",
      "analytics.google.com            4317\n",
      "Partners                        3479\n",
      "sites.google.com                1171\n",
      "google.com                       932\n",
      "dfa                              600\n",
      "bing                             506\n",
      "m.facebook.com                   416\n",
      "mail.google.com                  391\n",
      "quora.com                        387\n",
      "qiita.com                        359\n",
      "facebook.com                     332\n",
      "yahoo                            331\n",
      "reddit.com                       310\n",
      "plus.url.google.com              300\n",
      "baidu                            272\n",
      "l.facebook.com                   224\n",
      "groups.google.com                205\n",
      "siliconvalley.about.com          187\n",
      "blog.golang.org                  162\n",
      "plus.google.com                  142\n",
      "support.google.com               131\n",
      "t.co                             103\n",
      "duckduckgo.com                    79\n",
      "away.vk.com                       67\n",
      "lunametrics.com                   56\n",
      "dealspotr.com                     54\n",
      "googleads.g.doubleclick.net       53\n",
      "                               ...  \n",
      "yandex                             1\n",
      "images.google                      1\n",
      "cl.search.yahoo.com                1\n",
      "ch.search.yahoo.com                1\n",
      "sg.search.yahoo.com                1\n",
      "search.snapdo.com                  1\n",
      "se.yhs4.search.yahoo.com           1\n",
      "google.co.id                       1\n",
      "google.ch                          1\n",
      "google.com.hk                      1\n",
      "mail.aol.com                       1\n",
      "good.barkpost.com                  1\n",
      "google.com.mx                      1\n",
      "seroundtable.com                   1\n",
      "fr.search.yahoo.com                1\n",
      "google.com.sa                      1\n",
      "google.com.tw                      1\n",
      "r.search.aol.com                   1\n",
      "google.com.ua                      1\n",
      "es.yhs4.search.yahoo.com           1\n",
      "es.search.yahoo.com                1\n",
      "start.wow.com                      1\n",
      "google.no                          1\n",
      "google.pl                          1\n",
      "google.rs                          1\n",
      "se.search.yahoo.com                1\n",
      "results.searchlock.com             1\n",
      "goto.google.com                    1\n",
      "search.1and1.com                   1\n",
      "searchlock.com                     1\n",
      "Name: source, Length: 159, dtype: int64\n"
     ]
    }
   ],
   "source": [
    "print(traffic[traffic[\"source\"].isna()==False].groupby('source')[\"source\"].count().sort_values(ascending=False))\n",
    "#159 valeurs différentes"
   ]
  },
  {
   "cell_type": "code",
   "execution_count": null,
   "metadata": {},
   "outputs": [],
   "source": []
  },
  {
   "cell_type": "code",
   "execution_count": null,
   "metadata": {},
   "outputs": [],
   "source": []
  },
  {
   "cell_type": "code",
   "execution_count": 397,
   "metadata": {},
   "outputs": [
    {
     "name": "stdout",
     "output_type": "stream",
     "text": [
      "adwordsClickInfo.adNetworkType\n",
      "Content           784\n",
      "Google Search    2214\n",
      "Name: adwordsClickInfo.adNetworkType, dtype: int64\n"
     ]
    }
   ],
   "source": [
    "print(traffic[traffic[\"adwordsClickInfo.adNetworkType\"].isna()==False].groupby('adwordsClickInfo.adNetworkType')['adwordsClickInfo.adNetworkType'].count())"
   ]
  },
  {
   "cell_type": "code",
   "execution_count": 398,
   "metadata": {},
   "outputs": [
    {
     "name": "stdout",
     "output_type": "stream",
     "text": [
      "                                adContent  adwordsClickInfo.gclId  \\\n",
      "adwordsClickInfo.adNetworkType                                      \n",
      "Content                               784                     784   \n",
      "Google Search                        1165                    2214   \n",
      "\n",
      "                                adwordsClickInfo.isVideoAd  \\\n",
      "adwordsClickInfo.adNetworkType                               \n",
      "Content                                                784   \n",
      "Google Search                                         2214   \n",
      "\n",
      "                                adwordsClickInfo.page  adwordsClickInfo.slot  \\\n",
      "adwordsClickInfo.adNetworkType                                                 \n",
      "Content                                           784                    784   \n",
      "Google Search                                    2214                   2214   \n",
      "\n",
      "                                campaign  isTrueDirect  keyword  medium  \\\n",
      "adwordsClickInfo.adNetworkType                                            \n",
      "Content                              784           196      784     784   \n",
      "Google Search                       2214           535     2214    2214   \n",
      "\n",
      "                                referralPath  source  \n",
      "adwordsClickInfo.adNetworkType                        \n",
      "Content                                    0     784  \n",
      "Google Search                              0    2214  \n"
     ]
    }
   ],
   "source": [
    "print(traffic[traffic[\"adwordsClickInfo.adNetworkType\"].isna()==False].groupby('adwordsClickInfo.adNetworkType').count())\n",
    "# Les 5 variables adwordsClickInfo ont des valeurs aux mêmes loc"
   ]
  },
  {
   "cell_type": "code",
   "execution_count": null,
   "metadata": {},
   "outputs": [],
   "source": []
  },
  {
   "cell_type": "code",
   "execution_count": null,
   "metadata": {},
   "outputs": [],
   "source": []
  },
  {
   "cell_type": "code",
   "execution_count": 399,
   "metadata": {
    "scrolled": true
   },
   "outputs": [
    {
     "name": "stdout",
     "output_type": "stream",
     "text": [
      "adwordsClickInfo.gclId\n",
      "CjwKEAiAxKrFBRDm25f60OegtwwSJABgEC-Z0_DLPcXHm1ZTqlR1YWeWXU875yaqwupt7pGMgFEZThoCeEzw_wcB        14\n",
      "EAIaIQobChMIrKufnpLZ2QIVwpNkCh2q0QmUEAEYASAAEgIifPD_BwE                                         12\n",
      "Cj0KEQiAot_FBRCqt8jVsoDKoZABEiQAqFL76LHSlBk--Nef3azG5vFpZSg_QP6OzQ9IPEE22l6zFC8aAtg28P8HAQ      11\n",
      "EAIaIQobChMIsd34tObN2QIVgonICh30sgoEEAAYASAAEgJgcvD_BwE                                         11\n",
      "EAIaIQobChMI4Pzxov_x2QIV1yeHCh2UEwPOEAEYASAAEgKacPD_BwE                                          9\n",
      "Cj0KCQiAw9nUBRCTARIsAG11eicTUhQcm5WO3YmOaR19VeecqwGKdzGB9mHK8jSng-2j1c3YLGCw7mYaAh2KEALw_wcB     9\n",
      "CjwKEAjwqZ7GBRC1srKSv9TV_iwSJADKTjaD7U5XcXbbvXw-Jr1RJONfAGSzPmgEmPdK2AAAIWzzzRoCti3w_wcB         7\n",
      "EAIaIQobChMIxaL7mIHQ2QIVd8ThCh2DBQYaEAEYASAAEgJEEPD_BwE                                          7\n",
      "Cj0KEQjw-73GBRCC7KODl9zToJMBEiQAj1Jgf1K9gNn_kZpAc6U9OWdbNl3aMPozp9e1JbYH7GgJ_qgaAmof8P8HAQ       7\n",
      "CML87ZS65tYCFYUfaAodZrABAQ                                                                       7\n",
      "Cj0KCQiAw9nUBRCTARIsAG11eidvFpjb11-srT-1lmAoHN8mbWpotAgQy9jjfo8B7uJmmubVgPRxKjcaAtunEALw_wcB     7\n",
      "CjwKCAjwh9PGBRAfEiwAIaVuaHgaXDRDnS4R0Q7boxdW-4HpuAw9XOP_3xlNMtz-gDCQHU0IytxRHRoC6tgQAvD_BwE      7\n",
      "COb1jfWRqdICFZyLswod9vQK5g                                                                       7\n",
      "EAIaIQobChMIge2KjojZ2QIVyyaGCh2YkAydEAAYASAAEgLNYvD_BwE                                          6\n",
      "CjwKEAjw97K_BRCwmNTK26iM-hMSJABrkNtbAusLnqTJzonZqDdJQZhnJA-J8W4Gz-boNq1-mYfGChoCqi7w_wcB         6\n",
      "Cj0KEQjwhpnGBRDKpY-My9rdutABEiQAWNcslNHGCTCkbrD9R9SKudU6sPplG9aYfTgiB2p6CxyPpGMaAtYJ8P8HAQ       6\n",
      "EAIaIQobChMIqPyQ9dLW2QIVBGPBCh16UQneEAEYASAAEgKJ2_D_BwE                                          6\n",
      "EAIaIQobChMIwaGFwMeW2AIVE4FpCh1LmwCbEAEYASAAEgL0H_D_BwE                                          6\n",
      "Cj0KCQiAw9nUBRCTARIsAG11eidGtRZZ25eqG8mnmkF-oQ3fPYGzmTdCPSlEDwDPRVsKY9gMxiS9QPYaAhR8EALw_wcB     6\n",
      "CN3fusbjvtYCFQsmhgodIEQO-g                                                                       6\n",
      "CjwKCAiA_ojVBRAlEiwAOLRxIxF6a_xY_kW3edjTZYSe-i4jZvDFM5OxJFZh3HhwxsFTj-xkMW2gnRoCJHYQAvD_BwE      5\n",
      "Cj0KEQiAuonGBRCaotXoycysvIMBEiQAcxV0nH04PTH5N1jmKl9nOggKBEHrtNlXRm6BaKGsO9Gl46QaAsLx8P8HAQ       5\n",
      "CjwKEAjwzKPGBRCS55Oe46q9hCkSJAAMvVuMiSnU-U_W8ZBqZDx1i09f5GLSTOgAZGfyPhxgny8umRoC0Ybw_wcB         5\n",
      "CjwKCAiAz-7UBRBAEiwAVrz-9XDp4Vu2734OvwUvrbhvEyQcbsYZKVHR_h5uJJxt9xEZ1y0rU2zuThoC2BYQAvD_BwE      5\n",
      "EAIaIQobChMIpd-s85jS2QIVFJF-Ch3lQguSEAAYASAAEgKjufD_BwE                                          5\n",
      "CjwKEAjwzKPGBRCS55Oe46q9hCkSJAAMvVuMXHG88fFGO1qcdxs9gOFR1QLU_CH8J1jW6Lg9YV9NaBoC9-3w_wcB         5\n",
      "CjwKEAjwtbPGBRDhoLaqn6HknWsSJABR-o5s8Hn4BfczvxtPy2Jm7ytxvPv_U6t5dHuhgedGvh4nWBoCRq_w_wcB         5\n",
      "CjwKEAiAj7TCBRCp2Z22ue-zrj4SJACG7SBEJui6ggr6ocA-eDC2-lX7W1m5IA1c_qNbzwZVTqUanxoCb5rw_wcB         5\n",
      "CjwKEAiA6OnFBRDcgt7YmPKI33ESJACJoTJY5OYzU7m5Kwf_Ftr84pdfl4G_ziTppzeU_0D51WgyHRoCignw_wcB         5\n",
      "EAIaIQobChMIt_699cuA2gIVA-RkCh0mDQDQEAEYASAAEgJ74vD_BwE                                          5\n",
      "                                                                                                ..\n",
      "CjwKEAiAi-_FBRCZyPm_14CjoyASJAClUigOlabxMgjYuGoosJ9okdyLHDy4DtWwJGuZEvziMq22fRoCx47w_wcB         1\n",
      "CjwKEAiAi-_FBRCZyPm_14CjoyASJAClUigOvYWfWG8NT1qXuzpXi5H6jRz7laPNt-uXld8jNg03RBoCVSzw_wcB         1\n",
      "CjwKEAiAi-_FBRCZyPm_14CjoyASJAClUigOx3xmVlmbvfLGOc2w1zpRRm4x68q8Kb-Jfipy19mBuxoCu9Lw_wcB         1\n",
      "CjwKEAiAkuLDBRCRguCgvITww0YSJAAHrpf-jGm-gtOWpenWbvJOzxM4PDyBEmge305mHD1lONDX1BoCYDbw_wcB         1\n",
      "CjwKEAiAn7HEBRDHwNqitoWqsQcSJAADWmI2A-tFpti5vy8qGK7XeEXTfk1MWGWDI72UfY-4kl7N8hoCY_7w_wcB         1\n",
      "CjwKEAiAqozEBRDJrPem0fPKtX0SJAD5sAyHlf9hejxZS45ZRAYP2x9m9Q6yWZsZqCC5DRDgvn3hrBoCryfw_wcB         1\n",
      "CjwKEAiArbrFBRDL4Oiz97GP2nISJAAmJMFajwwfNSw1FliDuVvqkKCNCv7UGF5twNkXUDGA9eCoVBoCGqHw_wcB         1\n",
      "CjwKEAiArbrFBRDL4Oiz97GP2nISJAAmJMFayGTMvHc6QXbRSrfV4nOXJ7nyoUpwoI8KYPJ8zPMn0BoCBALw_wcB         1\n",
      "CjwKEAiArvTFBRCLq5-7-MSJ0jMSJABHBvp0522RzhMZBx_DaWp_ZBNIDEmWDqfyv4XKdfjHAvbolRoC2EPw_wcB         1\n",
      "CjwKEAiArvTFBRCLq5-7-MSJ0jMSJABHBvp0H_fJb1M5JtNEzMlFYXq9qUMIAbJkYMNL6Aad2vMuEBoC48fw_wcB         1\n",
      "CjwKEAiArvTFBRCLq5-7-MSJ0jMSJABHBvp0Mtu6Fj-ybm1Mv6qnKjlZL9XxxUZn5_nRfJrp7JYFFRoCwBfw_wcB         1\n",
      "CjwKEAiArvTFBRCLq5-7-MSJ0jMSJABHBvp0PsuxnPh0NeWMe8T6VmJictnKqqq9m7DOYS0vrDGxvxoCv7Pw_wcB         1\n",
      "CjwKEAiArvTFBRCLq5-7-MSJ0jMSJABHBvp0U2UH4tN1pI0t29V7hec9wG-oO4SwVVUw76glFY7c2RoCL9Hw_wcB         1\n",
      "CjwKEAiArvTFBRCLq5-7-MSJ0jMSJABHBvp0Z108FdTS-vHuWoU7twFYi_wCnHHssOV3VpT1_AcALBoC6Sfw_wcB         1\n",
      "CjwKEAiArvTFBRCLq5-7-MSJ0jMSJABHBvp0thrOuvk6b7QXWThUB70LsppoXq4EBkJEXKIn14z7gBoCjWTw_wcB         1\n",
      "CjwKEAiAuc_FBRD7_JCM3NSY92wSJABbVoxBPDy9HzIhR-qujyMV8O03UqZ73UCbX4ppSxbw0NurMxoCwsXw_wcB         1\n",
      "CjwKEAiAwfzDBRCRmJe7z_7h8yQSJAC4corO5eyMdc7WjRoAry-jNEczr-SjDmO3FvdmqxeeXYe0axoCm-Hw_wcB         1\n",
      "CjwKEAjw5M3GBRCTvpK4osqj4X4SJAABRJNC-mJGSFvqFMlS29OgucEhm2fJIhipuegxYUIXZ9jE4xoCaNDw_wcB         1\n",
      "CjwKEAjw5M3GBRCTvpK4osqj4X4SJAABRJNC2IwobGyDz-vIxqEyoXyv6VfCoK7eCELmcE60A0VVtBoC7DLw_wcB         1\n",
      "CjwKEAjw5M3GBRCTvpK4osqj4X4SJAABRJNC2l2wvCUQ1CskJKiJesoBbHqfo4OSmTbhVJzt0kBzDxoC5krw_wcB         1\n",
      "CjwKEAjw5M3GBRCTvpK4osqj4X4SJAABRJNC6gUQZeWOZRjKfuru15m5EWu5D-PTylc1nvW0t3uq2RoCcFbw_wcB         1\n",
      "CjwKEAjw5M3GBRCTvpK4osqj4X4SJAABRJNC8wahwTfPg9pjuAorJ8tiMYIzzqsbo735kZMKF_JqHRoC4Kvw_wcB         1\n",
      "CjwKEAjw5M3GBRCTvpK4osqj4X4SJAABRJNCL5RO2xWO1_0IQ1h21PmVxEXNpCsJahy8vNyJiyLysRoCvfTw_wcB         1\n",
      "CjwKEAjw5M3GBRCTvpK4osqj4X4SJAABRJNCL6X6KmVE9rC5wKL9VEscyoGwtdLEebWQFHPhUQjcYxoCfsPw_wcB         1\n",
      "CjwKEAjw5M3GBRCTvpK4osqj4X4SJAABRJNCMIgJNq3tKoZE3XnbnXd5BnjjpsRIHEEsMTKRsN89CRoCyvfw_wcB         1\n",
      "CjwKEAjw5M3GBRCTvpK4osqj4X4SJAABRJNCOi36hsHrli3LM5xcbNa6ZXlfIqDlr0kSpj6cFdtQ7RoCVI7w_wcB         1\n",
      "CjwKEAjw5M3GBRCTvpK4osqj4X4SJAABRJNCc-vtL05rkmzXaWRdbvjTNHuo43RWyhxxr5Xb27WaOBoCSRnw_wcB         1\n",
      "CjwKEAjw5M3GBRCTvpK4osqj4X4SJAABRJNCc3ThCOGWc1kYIEw139s8uIAAJd8jb-3i4sUjQ9PR0hoCGt7w_wcB         1\n",
      "CjwKEAjw5M3GBRCTvpK4osqj4X4SJAABRJNClLPecekvVbA3KzOOv_-7P7FUnq5K32HkefsppTkhtRoCbyLw_wcB         1\n",
      "CI6DjIfk0dICFQp3fgodUdEKKg                                                                       1\n",
      "Name: adwordsClickInfo.gclId, Length: 2366, dtype: int64\n"
     ]
    }
   ],
   "source": [
    "print(traffic[traffic[\"adwordsClickInfo.gclId\"].isna()==False].groupby('adwordsClickInfo.gclId')[\"adwordsClickInfo.gclId\"].count().sort_values(ascending=False))"
   ]
  },
  {
   "cell_type": "code",
   "execution_count": null,
   "metadata": {},
   "outputs": [],
   "source": []
  },
  {
   "cell_type": "code",
   "execution_count": null,
   "metadata": {},
   "outputs": [],
   "source": []
  },
  {
   "cell_type": "code",
   "execution_count": 400,
   "metadata": {},
   "outputs": [
    {
     "name": "stdout",
     "output_type": "stream",
     "text": [
      "adwordsClickInfo.isVideoAd\n",
      "False    2998\n",
      "Name: adwordsClickInfo.isVideoAd, dtype: int64\n"
     ]
    }
   ],
   "source": [
    "print(traffic[traffic[\"adwordsClickInfo.isVideoAd\"].isna()==False].groupby('adwordsClickInfo.isVideoAd')[\"adwordsClickInfo.isVideoAd\"].count().sort_values(ascending=False))\n",
    "#2998 Faux, aucun Vrai le reste que des NaN"
   ]
  },
  {
   "cell_type": "code",
   "execution_count": null,
   "metadata": {},
   "outputs": [],
   "source": []
  },
  {
   "cell_type": "code",
   "execution_count": null,
   "metadata": {},
   "outputs": [],
   "source": []
  },
  {
   "cell_type": "code",
   "execution_count": 401,
   "metadata": {},
   "outputs": [
    {
     "name": "stdout",
     "output_type": "stream",
     "text": [
      "adwordsClickInfo.page\n",
      "1     2984\n",
      "2       11\n",
      "5        2\n",
      "12       1\n",
      "Name: adwordsClickInfo.page, dtype: int64\n"
     ]
    }
   ],
   "source": [
    "print(traffic[traffic[\"adwordsClickInfo.page\"].isna()==False].groupby('adwordsClickInfo.page')[\"adwordsClickInfo.page\"].count().sort_values(ascending=False))"
   ]
  },
  {
   "cell_type": "code",
   "execution_count": null,
   "metadata": {},
   "outputs": [],
   "source": []
  },
  {
   "cell_type": "code",
   "execution_count": null,
   "metadata": {},
   "outputs": [],
   "source": []
  },
  {
   "cell_type": "code",
   "execution_count": 402,
   "metadata": {},
   "outputs": [
    {
     "name": "stdout",
     "output_type": "stream",
     "text": [
      "adwordsClickInfo.slot\n",
      "Top    2189\n",
      "RHS     809\n",
      "Name: adwordsClickInfo.slot, dtype: int64\n"
     ]
    }
   ],
   "source": [
    "print(traffic[traffic[\"adwordsClickInfo.slot\"].isna()==False].groupby('adwordsClickInfo.slot')[\"adwordsClickInfo.slot\"].count().sort_values(ascending=False))"
   ]
  },
  {
   "cell_type": "code",
   "execution_count": null,
   "metadata": {},
   "outputs": [],
   "source": []
  },
  {
   "cell_type": "code",
   "execution_count": null,
   "metadata": {},
   "outputs": [],
   "source": []
  },
  {
   "cell_type": "code",
   "execution_count": 403,
   "metadata": {
    "scrolled": false
   },
   "outputs": [
    {
     "name": "stdout",
     "output_type": "stream",
     "text": [
      "                    adContent adwordsClickInfo.adNetworkType  \\\n",
      "0  Display Ad created 3/11/14                            NaN   \n",
      "1                         NaN                            NaN   \n",
      "2                         NaN                            NaN   \n",
      "3                         NaN                            NaN   \n",
      "4                         NaN                            NaN   \n",
      "\n",
      "  adwordsClickInfo.gclId adwordsClickInfo.isVideoAd adwordsClickInfo.page  \\\n",
      "0                    NaN                        NaN                   NaN   \n",
      "1                    NaN                        NaN                   NaN   \n",
      "2                    NaN                        NaN                   NaN   \n",
      "3                    NaN                        NaN                   NaN   \n",
      "4                    NaN                        NaN                   NaN   \n",
      "\n",
      "  adwordsClickInfo.slot   campaign isTrueDirect  \\\n",
      "0                   NaN  (not set)         True   \n",
      "1                   NaN  (not set)          NaN   \n",
      "2                   NaN  (not set)         True   \n",
      "3                   NaN  (not set)          NaN   \n",
      "4                   NaN  (not set)          NaN   \n",
      "\n",
      "                           keyword   medium referralPath    source  \n",
      "0  (Remarketing/Content targeting)      cpc          NaN    google  \n",
      "1                   (not provided)  organic          NaN    google  \n",
      "2                              NaN      NaN          NaN  (direct)  \n",
      "3                   (not provided)  organic          NaN    google  \n",
      "4                   (not provided)  organic          NaN     yahoo  \n"
     ]
    }
   ],
   "source": [
    "print(traffic.head())"
   ]
  },
  {
   "cell_type": "code",
   "execution_count": null,
   "metadata": {},
   "outputs": [],
   "source": []
  },
  {
   "cell_type": "code",
   "execution_count": null,
   "metadata": {},
   "outputs": [],
   "source": []
  },
  {
   "cell_type": "code",
   "execution_count": 404,
   "metadata": {},
   "outputs": [
    {
     "name": "stdout",
     "output_type": "stream",
     "text": [
      "  channelGrouping                            customDimensions       date  \\\n",
      "0     Paid Search           [{'index': '4', 'value': 'APAC'}] 2017-03-12   \n",
      "1  Organic Search                                          [] 2017-03-12   \n",
      "2          Direct  [{'index': '4', 'value': 'North America'}] 2017-03-12   \n",
      "3  Organic Search           [{'index': '4', 'value': 'APAC'}] 2017-03-12   \n",
      "4  Organic Search           [{'index': '4', 'value': 'APAC'}] 2017-03-12   \n",
      "\n",
      "                                              device        fullVisitorId  \\\n",
      "0  {\"browser\": \"Chrome\", \"browserVersion\": \"not a...  6018775317735347795   \n",
      "1  {\"browser\": \"Chrome\", \"browserVersion\": \"not a...  4502602144434229509   \n",
      "2  {\"browser\": \"Chrome\", \"browserVersion\": \"not a...  1047720525322501048   \n",
      "3  {\"browser\": \"Safari\", \"browserVersion\": \"not a...  2980931954171389805   \n",
      "4  {\"browser\": \"Firefox\", \"browserVersion\": \"not ...  3426870913361457794   \n",
      "\n",
      "                                          geoNetwork  \\\n",
      "0  {\"continent\": \"Asia\", \"subContinent\": \"Southea...   \n",
      "1  {\"continent\": \"Asia\", \"subContinent\": \"Eastern...   \n",
      "2  {\"continent\": \"Americas\", \"subContinent\": \"Nor...   \n",
      "3  {\"continent\": \"Asia\", \"subContinent\": \"Eastern...   \n",
      "4  {\"continent\": \"Asia\", \"subContinent\": \"Eastern...   \n",
      "\n",
      "                                              totals  \\\n",
      "0  {\"visits\": \"1\", \"hits\": \"1\", \"pageviews\": \"1\",...   \n",
      "1  {\"visits\": \"1\", \"hits\": \"1\", \"pageviews\": \"1\",...   \n",
      "2  {\"visits\": \"1\", \"hits\": \"1\", \"pageviews\": \"1\",...   \n",
      "3  {\"visits\": \"1\", \"hits\": \"1\", \"pageviews\": \"1\",...   \n",
      "4  {\"visits\": \"1\", \"hits\": \"1\", \"pageviews\": \"1\",...   \n",
      "\n",
      "                                       trafficSource     visitId  visitNumber  \\\n",
      "0  {\"campaign\": \"(not set)\", \"source\": \"google\", ...  1489384596           61   \n",
      "1  {\"campaign\": \"(not set)\", \"source\": \"google\", ...  1489386442            1   \n",
      "2  {\"campaign\": \"(not set)\", \"source\": \"(direct)\"...  1489321740            1   \n",
      "3  {\"campaign\": \"(not set)\", \"source\": \"google\", ...  1489330188            1   \n",
      "4  {\"campaign\": \"(not set)\", \"source\": \"yahoo\", \"...  1489336822            3   \n",
      "\n",
      "       visitStartTime  \n",
      "0 2017-03-13 05:56:36  \n",
      "1 2017-03-13 06:27:22  \n",
      "2 2017-03-12 12:29:00  \n",
      "3 2017-03-12 14:49:48  \n",
      "4 2017-03-12 16:40:22  \n"
     ]
    }
   ],
   "source": [
    "print(df_train.head())"
   ]
  },
  {
   "cell_type": "code",
   "execution_count": null,
   "metadata": {},
   "outputs": [],
   "source": []
  },
  {
   "cell_type": "code",
   "execution_count": null,
   "metadata": {},
   "outputs": [],
   "source": []
  },
  {
   "cell_type": "code",
   "execution_count": null,
   "metadata": {},
   "outputs": [],
   "source": []
  },
  {
   "cell_type": "code",
   "execution_count": 405,
   "metadata": {},
   "outputs": [],
   "source": [
    "#Merge des colonnes Json"
   ]
  },
  {
   "cell_type": "code",
   "execution_count": 406,
   "metadata": {},
   "outputs": [],
   "source": [
    "df_train=df_train.drop(columns={\"customDimensions\",\"device\",\"geoNetwork\",\"totals\",\"trafficSource\"})"
   ]
  },
  {
   "cell_type": "code",
   "execution_count": 407,
   "metadata": {},
   "outputs": [],
   "source": [
    "df_train=pd.merge(df_train,device,how=\"left\",left_index=True,right_index=True)\n",
    "df_train=pd.merge(df_train,geo,how=\"left\",left_index=True,right_index=True)\n",
    "df_train=pd.merge(df_train,totals,how=\"left\",left_index=True,right_index=True)\n",
    "df_train=pd.merge(df_train,dimension,how=\"left\",left_index=True,right_index=True)\n",
    "df_train=pd.merge(df_train,traffic,how=\"left\",left_index=True,right_index=True)\n"
   ]
  },
  {
   "cell_type": "code",
   "execution_count": 408,
   "metadata": {},
   "outputs": [
    {
     "name": "stdout",
     "output_type": "stream",
     "text": [
      "  channelGrouping       date        fullVisitorId     visitId  visitNumber  \\\n",
      "0     Paid Search 2017-03-12  6018775317735347795  1489384596           61   \n",
      "1  Organic Search 2017-03-12  4502602144434229509  1489386442            1   \n",
      "2          Direct 2017-03-12  1047720525322501048  1489321740            1   \n",
      "3  Organic Search 2017-03-12  2980931954171389805  1489330188            1   \n",
      "4  Organic Search 2017-03-12  3426870913361457794  1489336822            3   \n",
      "\n",
      "       visitStartTime  browser deviceCategory isMobile operatingSystem  \\\n",
      "0 2017-03-13 05:56:36   Chrome        desktop    False         Windows   \n",
      "1 2017-03-13 06:27:22   Chrome        desktop    False         Windows   \n",
      "2 2017-03-12 12:29:00   Chrome         mobile     True         Android   \n",
      "3 2017-03-12 14:49:48   Safari        desktop    False       Macintosh   \n",
      "4 2017-03-12 16:40:22  Firefox        desktop    False         Windows   \n",
      "\n",
      "     ...    adwordsClickInfo.gclId adwordsClickInfo.isVideoAd  \\\n",
      "0    ...                       NaN                        NaN   \n",
      "1    ...                       NaN                        NaN   \n",
      "2    ...                       NaN                        NaN   \n",
      "3    ...                       NaN                        NaN   \n",
      "4    ...                       NaN                        NaN   \n",
      "\n",
      "  adwordsClickInfo.page adwordsClickInfo.slot   campaign isTrueDirect  \\\n",
      "0                   NaN                   NaN  (not set)         True   \n",
      "1                   NaN                   NaN  (not set)          NaN   \n",
      "2                   NaN                   NaN  (not set)         True   \n",
      "3                   NaN                   NaN  (not set)          NaN   \n",
      "4                   NaN                   NaN  (not set)          NaN   \n",
      "\n",
      "                           keyword   medium referralPath    source  \n",
      "0  (Remarketing/Content targeting)      cpc          NaN    google  \n",
      "1                   (not provided)  organic          NaN    google  \n",
      "2                              NaN      NaN          NaN  (direct)  \n",
      "3                   (not provided)  organic          NaN    google  \n",
      "4                   (not provided)  organic          NaN     yahoo  \n",
      "\n",
      "[5 rows x 37 columns]\n"
     ]
    }
   ],
   "source": [
    "print(df_train.head())"
   ]
  },
  {
   "cell_type": "code",
   "execution_count": null,
   "metadata": {},
   "outputs": [],
   "source": []
  },
  {
   "cell_type": "code",
   "execution_count": null,
   "metadata": {},
   "outputs": [],
   "source": []
  },
  {
   "cell_type": "code",
   "execution_count": 409,
   "metadata": {},
   "outputs": [],
   "source": [
    "# Ajout colonne achat avec deux valeurs possibles : \"oui\" ou \"non\""
   ]
  },
  {
   "cell_type": "code",
   "execution_count": 410,
   "metadata": {},
   "outputs": [],
   "source": [
    "df_train[\"achat\"]=df_train.transactions.copy()\n",
    "df_train['achat'] = df_train[df_train[\"achat\"].isna()==False][\"achat\"].replace(1,\"oui\")\n",
    "df_train['achat'] = df_train[df_train[\"achat\"].isna()==False][\"achat\"].replace(2,\"oui\")\n",
    "df_train['achat'] = df_train[df_train[\"achat\"].isna()==False][\"achat\"].replace(3,\"oui\")\n",
    "df_train['achat'] = df_train[df_train[\"achat\"].isna()==False][\"achat\"].replace(4,\"oui\")\n",
    "df_train['achat'] = df_train[df_train[\"achat\"].isna()==False][\"achat\"].replace(7,\"oui\")\n",
    "df_train['achat'] = df_train[df_train[\"achat\"].isna()==False][\"achat\"].replace(8,\"oui\")\n",
    "df_train['achat'] = df_train[df_train[\"achat\"].isna()==False][\"achat\"].replace(10,\"oui\")\n",
    "df_train['achat'] = df_train[df_train[\"achat\"].isna()==False][\"achat\"].replace(12,\"oui\")\n",
    "df_train['achat'] = df_train[df_train[\"achat\"].isna()==False][\"achat\"].replace(21,\"oui\")\n",
    "df_train['achat'] = df_train[df_train[\"achat\"].isna()==False][\"achat\"].replace(25,\"oui\")\n",
    "df_train['achat'] = df_train['achat'].fillna(\"non\")"
   ]
  },
  {
   "cell_type": "code",
   "execution_count": 411,
   "metadata": {},
   "outputs": [
    {
     "name": "stdout",
     "output_type": "stream",
     "text": [
      "0    non\n",
      "1    non\n",
      "2    non\n",
      "3    non\n",
      "4    non\n",
      "Name: achat, dtype: object\n"
     ]
    }
   ],
   "source": [
    "print(df_train[\"achat\"].head())"
   ]
  },
  {
   "cell_type": "code",
   "execution_count": 412,
   "metadata": {},
   "outputs": [
    {
     "name": "stdout",
     "output_type": "stream",
     "text": [
      "1913\n"
     ]
    }
   ],
   "source": [
    "print(df_train[df_train[\"achat\"]==\"oui\"][\"achat\"].count())"
   ]
  },
  {
   "cell_type": "code",
   "execution_count": 413,
   "metadata": {},
   "outputs": [],
   "source": [
    "df_train=df_train.drop(columns=[\"adContent\",\"adwordsClickInfo.adNetworkType\",\"adwordsClickInfo.gclId\",\"adwordsClickInfo.isVideoAd\",\"adwordsClickInfo.page\",\"campaign\",\"referralPath\",\"keyword\",\"index\",\"source\",\"visits\",\"value\",\"medium\"])"
   ]
  },
  {
   "cell_type": "code",
   "execution_count": 414,
   "metadata": {},
   "outputs": [
    {
     "name": "stdout",
     "output_type": "stream",
     "text": [
      "channelGrouping                    Paid Search\n",
      "date                       2017-03-12 00:00:00\n",
      "fullVisitorId              6018775317735347795\n",
      "visitId                             1489384596\n",
      "visitNumber                                 61\n",
      "visitStartTime             2017-03-13 05:56:36\n",
      "browser                                 Chrome\n",
      "deviceCategory                         desktop\n",
      "isMobile                                 False\n",
      "operatingSystem                        Windows\n",
      "continent                                 Asia\n",
      "country                              Singapore\n",
      "subContinent                    Southeast Asia\n",
      "bounces                                      1\n",
      "hits                                         1\n",
      "newVisits                                  NaN\n",
      "pageviews                                    1\n",
      "sessionQualityDim                          NaN\n",
      "timeOnSite                                 NaN\n",
      "totalTransactionRevenue                    NaN\n",
      "transactionRevenue                         NaN\n",
      "transactions                               NaN\n",
      "adwordsClickInfo.slot                      NaN\n",
      "isTrueDirect                              True\n",
      "achat                                      non\n",
      "Name: 0, dtype: object\n"
     ]
    }
   ],
   "source": [
    "print(df_train.loc[0])"
   ]
  },
  {
   "cell_type": "code",
   "execution_count": null,
   "metadata": {},
   "outputs": [],
   "source": []
  },
  {
   "cell_type": "code",
   "execution_count": null,
   "metadata": {},
   "outputs": [],
   "source": []
  },
  {
   "cell_type": "code",
   "execution_count": null,
   "metadata": {},
   "outputs": [],
   "source": [
    "#Export de ma table pour la suite du projet\n",
    "df_train.to_csv(\"df_train_nettoyé_P8.csv\", sep='\\t', encoding='utf-8', index = False)"
   ]
  },
  {
   "cell_type": "code",
   "execution_count": null,
   "metadata": {},
   "outputs": [],
   "source": []
  }
 ],
 "metadata": {
  "kernelspec": {
   "display_name": "Python 3",
   "language": "python",
   "name": "python3"
  },
  "language_info": {
   "codemirror_mode": {
    "name": "ipython",
    "version": 3
   },
   "file_extension": ".py",
   "mimetype": "text/x-python",
   "name": "python",
   "nbconvert_exporter": "python",
   "pygments_lexer": "ipython3",
   "version": "3.7.0"
  }
 },
 "nbformat": 4,
 "nbformat_minor": 2
}
